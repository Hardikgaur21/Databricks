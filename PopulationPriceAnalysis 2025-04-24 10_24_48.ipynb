{
 "cells": [
  {
   "cell_type": "code",
   "execution_count": 0,
   "metadata": {
    "application/vnd.databricks.v1+cell": {
     "cellMetadata": {
      "byteLimit": 2048000,
      "rowLimit": 10000
     },
     "inputWidgets": {},
     "nuid": "02477660-8bc2-4f72-9c82-94f7ce112b69",
     "showTitle": false,
     "tableResultSettingsMap": {},
     "title": ""
    }
   },
   "outputs": [
    {
     "output_type": "stream",
     "name": "stdout",
     "output_type": "stream",
     "text": [
      "root\n |-- 2014 rank: integer (nullable = true)\n |-- City: string (nullable = true)\n |-- State: string (nullable = true)\n |-- State Code: string (nullable = true)\n |-- 2014 Population estimate: integer (nullable = true)\n |-- 2015 median sales price: double (nullable = true)\n\n+---------+-------------+-------+----------+------------------------+-----------------------+\n|2014 rank|         City|  State|State Code|2014 Population estimate|2015 median sales price|\n+---------+-------------+-------+----------+------------------------+-----------------------+\n|      101|   Birmingham|Alabama|        AL|                  212247|                  162.9|\n|      125|   Huntsville|Alabama|        AL|                  188226|                  157.7|\n|      122|       Mobile|Alabama|        AL|                  194675|                  122.5|\n|      114|   Montgomery|Alabama|        AL|                  200481|                  129.0|\n|       64|Anchorage[19]| Alaska|        AK|                  301010|                   null|\n+---------+-------------+-------+----------+------------------------+-----------------------+\nonly showing top 5 rows\n\n"
     ]
    }
   ],
   "source": [
    "# Load the dataset from DBFS (Databricks Filesystem)\n",
    "file_path = \"/databricks-datasets/samples/population-vs-price/data_geo.csv\"\n",
    "df = spark.read.csv(file_path, header=True, inferSchema=True)\n",
    "df.printSchema()\n",
    "df.show(5)"
   ]
  },
  {
   "cell_type": "code",
   "execution_count": 0,
   "metadata": {
    "application/vnd.databricks.v1+cell": {
     "cellMetadata": {
      "byteLimit": 2048000,
      "rowLimit": 10000
     },
     "inputWidgets": {},
     "nuid": "02a91ef8-be1e-4840-91ad-45150b175305",
     "showTitle": false,
     "tableResultSettingsMap": {},
     "title": ""
    }
   },
   "outputs": [
    {
     "output_type": "stream",
     "name": "stdout",
     "output_type": "stream",
     "text": [
      "+-------------+-------+----------+------------------------+-----------------------+\n|         City|  State|State Code|2014 Population estimate|2015 median sales price|\n+-------------+-------+----------+------------------------+-----------------------+\n|   Birmingham|Alabama|        AL|                  212247|                  162.9|\n|   Huntsville|Alabama|        AL|                  188226|                  157.7|\n|       Mobile|Alabama|        AL|                  194675|                  122.5|\n|   Montgomery|Alabama|        AL|                  200481|                  129.0|\n|Anchorage[19]| Alaska|        AK|                  301010|                   null|\n+-------------+-------+----------+------------------------+-----------------------+\nonly showing top 5 rows\n\n"
     ]
    }
   ],
   "source": [
    "# Select relevant columns for analysis\n",
    "df_selected = df.select(\n",
    "    \"City\", \"State\", \"State Code\", \n",
    "    \"2014 Population estimate\", \"2015 median sales price\"\n",
    ")\n",
    "df_selected.show(5)"
   ]
  },
  {
   "cell_type": "code",
   "execution_count": 0,
   "metadata": {
    "application/vnd.databricks.v1+cell": {
     "cellMetadata": {
      "byteLimit": 2048000,
      "rowLimit": 10000
     },
     "inputWidgets": {},
     "nuid": "a40a417e-a748-4263-abf6-baaf23378d55",
     "showTitle": false,
     "tableResultSettingsMap": {},
     "title": ""
    }
   },
   "outputs": [
    {
     "output_type": "display_data",
     "data": {
      "text/html": [
       "<style scoped>\n",
       "  .table-result-container {\n",
       "    max-height: 300px;\n",
       "    overflow: auto;\n",
       "  }\n",
       "  table, th, td {\n",
       "    border: 1px solid black;\n",
       "    border-collapse: collapse;\n",
       "  }\n",
       "  th, td {\n",
       "    padding: 5px;\n",
       "  }\n",
       "  th {\n",
       "    text-align: left;\n",
       "  }\n",
       "</style><div class='table-result-container'><table class='table-result'><thead style='background-color: white'><tr><th>city</th><th>state</th><th>state code</th></tr></thead><tbody><tr><td>New York[6]</td><td>New York</td><td>NY</td></tr><tr><td>Los Angeles</td><td>California</td><td>CA</td></tr><tr><td>Chicago</td><td>Illinois</td><td>IL</td></tr><tr><td>Houston[7]</td><td>Texas</td><td>TX</td></tr><tr><td>Philadelphia[8]</td><td>Pennsylvania</td><td>PA</td></tr><tr><td>Phoenix</td><td>Arizona</td><td>AZ</td></tr><tr><td>San Antonio</td><td>Texas</td><td>TX</td></tr><tr><td>San Diego</td><td>California</td><td>CA</td></tr><tr><td>Dallas</td><td>Texas</td><td>TX</td></tr><tr><td>San Jose</td><td>California</td><td>CA</td></tr><tr><td>Austin</td><td>Texas</td><td>TX</td></tr><tr><td>Jacksonville[9]</td><td>Florida</td><td>FL</td></tr><tr><td>San Francisco[10]</td><td>California</td><td>CA</td></tr><tr><td>Indianapolis[11]</td><td>Indiana</td><td>IN</td></tr><tr><td>Columbus</td><td>Ohio</td><td>OH</td></tr><tr><td>Fort Worth</td><td>Texas</td><td>TX</td></tr><tr><td>Charlotte</td><td>North Carolina</td><td>NC</td></tr><tr><td>Detroit</td><td>Michigan</td><td>MI</td></tr><tr><td>El Paso</td><td>Texas</td><td>TX</td></tr><tr><td>Seattle</td><td>Washington</td><td>WA</td></tr><tr><td>Denver[12]</td><td>Colorado</td><td>CO</td></tr><tr><td>Washington[13]</td><td>District of Columbia</td><td>DC</td></tr><tr><td>Memphis</td><td>Tennessee</td><td>TN</td></tr><tr><td>Boston</td><td>Massachusetts</td><td>MA</td></tr><tr><td>Nashville[14]</td><td>Tennessee</td><td>TN</td></tr><tr><td>Baltimore[15]</td><td>Maryland</td><td>MD</td></tr><tr><td>Oklahoma City</td><td>Oklahoma</td><td>OK</td></tr><tr><td>Portland</td><td>Oregon</td><td>OR</td></tr><tr><td>Las Vegas</td><td>Nevada</td><td>NV</td></tr><tr><td>Louisville[16]</td><td>Kentucky</td><td>KY</td></tr><tr><td>Milwaukee</td><td>Wisconsin</td><td>WI</td></tr><tr><td>Albuquerque</td><td>New Mexico</td><td>NM</td></tr><tr><td>Tucson</td><td>Arizona</td><td>AZ</td></tr><tr><td>Fresno</td><td>California</td><td>CA</td></tr><tr><td>Sacramento</td><td>California</td><td>CA</td></tr><tr><td>Long Beach</td><td>California</td><td>CA</td></tr><tr><td>Kansas City</td><td>Missouri</td><td>MO</td></tr><tr><td>Mesa</td><td>Arizona</td><td>AZ</td></tr><tr><td>Atlanta</td><td>Georgia</td><td>GA</td></tr><tr><td>Virginia Beach[15]</td><td>Virginia</td><td>VA</td></tr><tr><td>Omaha</td><td>Nebraska</td><td>NE</td></tr><tr><td>Colorado Springs</td><td>Colorado</td><td>CO</td></tr><tr><td>Raleigh</td><td>North Carolina</td><td>NC</td></tr><tr><td>Miami</td><td>Florida</td><td>FL</td></tr><tr><td>Oakland</td><td>California</td><td>CA</td></tr><tr><td>Minneapolis</td><td>Minnesota</td><td>MN</td></tr><tr><td>Tulsa</td><td>Oklahoma</td><td>OK</td></tr><tr><td>Cleveland</td><td>Ohio</td><td>OH</td></tr><tr><td>Wichita</td><td>Kansas</td><td>KS</td></tr><tr><td>New Orleans[17]</td><td>Louisiana</td><td>LA</td></tr><tr><td>Arlington</td><td>Texas</td><td>TX</td></tr><tr><td>Bakersfield</td><td>California</td><td>CA</td></tr><tr><td>Tampa</td><td>Florida</td><td>FL</td></tr><tr><td>Aurora</td><td>Colorado</td><td>CO</td></tr><tr><td>Honolulu[2]</td><td>Hawai'i</td><td>HI</td></tr><tr><td>Anaheim</td><td>California</td><td>CA</td></tr><tr><td>Santa Ana</td><td>California</td><td>CA</td></tr><tr><td>Corpus Christi</td><td>Texas</td><td>TX</td></tr><tr><td>Riverside</td><td>California</td><td>CA</td></tr><tr><td>St. Louis[15]</td><td>Missouri</td><td>MO</td></tr><tr><td>Lexington[18]</td><td>Kentucky</td><td>KY</td></tr><tr><td>Pittsburgh</td><td>Pennsylvania</td><td>PA</td></tr><tr><td>Stockton</td><td>California</td><td>CA</td></tr><tr><td>Anchorage[19]</td><td>Alaska</td><td>AK</td></tr><tr><td>Cincinnati</td><td>Ohio</td><td>OH</td></tr><tr><td>Saint Paul</td><td>Minnesota</td><td>MN</td></tr><tr><td>Greensboro</td><td>North Carolina</td><td>NC</td></tr><tr><td>Toledo</td><td>Ohio</td><td>OH</td></tr><tr><td>Newark</td><td>New Jersey</td><td>NJ</td></tr><tr><td>Plano</td><td>Texas</td><td>TX</td></tr><tr><td>Henderson</td><td>Nevada</td><td>NV</td></tr><tr><td>Lincoln</td><td>Nebraska</td><td>NE</td></tr><tr><td>Orlando</td><td>Florida</td><td>FL</td></tr><tr><td>Jersey City</td><td>New Jersey</td><td>NJ</td></tr><tr><td>Chula Vista</td><td>California</td><td>CA</td></tr><tr><td>Buffalo</td><td>New York</td><td>NY</td></tr><tr><td>Fort Wayne</td><td>Indiana</td><td>IN</td></tr><tr><td>Chandler</td><td>Arizona</td><td>AZ</td></tr><tr><td>St. Petersburg</td><td>Florida</td><td>FL</td></tr><tr><td>Laredo</td><td>Texas</td><td>TX</td></tr><tr><td>Durham</td><td>North Carolina</td><td>NC</td></tr><tr><td>Irvine</td><td>California</td><td>CA</td></tr><tr><td>Madison</td><td>Wisconsin</td><td>WI</td></tr><tr><td>Norfolk[15]</td><td>Virginia</td><td>VA</td></tr><tr><td>Lubbock</td><td>Texas</td><td>TX</td></tr><tr><td>Gilbert[20]</td><td>Arizona</td><td>AZ</td></tr><tr><td>Winston�Salem</td><td>North Carolina</td><td>NC</td></tr><tr><td>Glendale</td><td>Arizona</td><td>AZ</td></tr><tr><td>Reno</td><td>Nevada</td><td>NV</td></tr><tr><td>Hialeah</td><td>Florida</td><td>FL</td></tr><tr><td>Garland</td><td>Texas</td><td>TX</td></tr><tr><td>Chesapeake[15]</td><td>Virginia</td><td>VA</td></tr><tr><td>Irving</td><td>Texas</td><td>TX</td></tr><tr><td>North Las Vegas</td><td>Nevada</td><td>NV</td></tr><tr><td>Scottsdale</td><td>Arizona</td><td>AZ</td></tr><tr><td>Baton Rouge[21]</td><td>Louisiana</td><td>LA</td></tr><tr><td>Fremont</td><td>California</td><td>CA</td></tr><tr><td>Richmond[15]</td><td>Virginia</td><td>VA</td></tr><tr><td>Boise[22]</td><td>Idaho</td><td>ID</td></tr><tr><td>San Bernardino</td><td>California</td><td>CA</td></tr><tr><td>Birmingham</td><td>Alabama</td><td>AL</td></tr><tr><td>Spokane</td><td>Washington</td><td>WA</td></tr><tr><td>Rochester</td><td>New York</td><td>NY</td></tr><tr><td>Modesto</td><td>California</td><td>CA</td></tr><tr><td>Des Moines</td><td>Iowa</td><td>IA</td></tr><tr><td>Oxnard</td><td>California</td><td>CA</td></tr><tr><td>Tacoma</td><td>Washington</td><td>WA</td></tr><tr><td>Fontana</td><td>California</td><td>CA</td></tr><tr><td>Fayetteville</td><td>North Carolina</td><td>NC</td></tr><tr><td>Moreno Valley</td><td>California</td><td>CA</td></tr><tr><td>Columbus[23]</td><td>Georgia</td><td>GA</td></tr><tr><td>Huntington Beach</td><td>California</td><td>CA</td></tr><tr><td>Yonkers</td><td>New York</td><td>NY</td></tr><tr><td>Montgomery</td><td>Alabama</td><td>AL</td></tr><tr><td>Aurora</td><td>Illinois</td><td>IL</td></tr><tr><td>Glendale</td><td>California</td><td>CA</td></tr><tr><td>Shreveport</td><td>Louisiana</td><td>LA</td></tr><tr><td>Akron</td><td>Ohio</td><td>OH</td></tr><tr><td>Little Rock</td><td>Arkansas</td><td>AR</td></tr><tr><td>Amarillo</td><td>Texas</td><td>TX</td></tr><tr><td>Augusta[24]</td><td>Georgia</td><td>GA</td></tr><tr><td>Mobile</td><td>Alabama</td><td>AL</td></tr><tr><td>Grand Rapids</td><td>Michigan</td><td>MI</td></tr><tr><td>Salt Lake City</td><td>Utah</td><td>UT</td></tr><tr><td>Huntsville</td><td>Alabama</td><td>AL</td></tr><tr><td>Tallahassee</td><td>Florida</td><td>FL</td></tr><tr><td>Grand Prairie</td><td>Texas</td><td>TX</td></tr><tr><td>Overland Park</td><td>Kansas</td><td>KS</td></tr><tr><td>Knoxville</td><td>Tennessee</td><td>TN</td></tr><tr><td>Brownsville</td><td>Texas</td><td>TX</td></tr><tr><td>Worcester</td><td>Massachusetts</td><td>MA</td></tr><tr><td>Newport News[15]</td><td>Virginia</td><td>VA</td></tr><tr><td>Santa Clarita</td><td>California</td><td>CA</td></tr><tr><td>Providence</td><td>Rhode Island</td><td>RI</td></tr><tr><td>Fort Lauderdale</td><td>Florida</td><td>FL</td></tr><tr><td>Garden Grove</td><td>California</td><td>CA</td></tr><tr><td>Oceanside</td><td>California</td><td>CA</td></tr><tr><td>Rancho Cucamonga</td><td>California</td><td>CA</td></tr><tr><td>Santa Rosa</td><td>California</td><td>CA</td></tr><tr><td>Port St. Lucie</td><td>Florida</td><td>FL</td></tr><tr><td>Chattanooga</td><td>Tennessee</td><td>TN</td></tr><tr><td>Tempe</td><td>Arizona</td><td>AZ</td></tr><tr><td>Jackson</td><td>Mississippi</td><td>MS</td></tr><tr><td>Cape Coral</td><td>Florida</td><td>FL</td></tr><tr><td>Vancouver</td><td>Washington</td><td>WA</td></tr><tr><td>Ontario</td><td>California</td><td>CA</td></tr><tr><td>Sioux Falls</td><td>South Dakota</td><td>SD</td></tr><tr><td>Peoria</td><td>Arizona</td><td>AZ</td></tr><tr><td>Springfield</td><td>Missouri</td><td>MO</td></tr><tr><td>Pembroke Pines</td><td>Florida</td><td>FL</td></tr><tr><td>Elk Grove</td><td>California</td><td>CA</td></tr><tr><td>Salem</td><td>Oregon</td><td>OR</td></tr><tr><td>Corona</td><td>California</td><td>CA</td></tr><tr><td>Lancaster</td><td>California</td><td>CA</td></tr><tr><td>Eugene</td><td>Oregon</td><td>OR</td></tr><tr><td>Palmdale</td><td>California</td><td>CA</td></tr><tr><td>McKinney</td><td>Texas</td><td>TX</td></tr><tr><td>Salinas</td><td>California</td><td>CA</td></tr><tr><td>Fort Collins</td><td>Colorado</td><td>CO</td></tr><tr><td>Cary[25]</td><td>North Carolina</td><td>NC</td></tr><tr><td>Hayward</td><td>California</td><td>CA</td></tr><tr><td>Springfield</td><td>Massachusetts</td><td>MA</td></tr><tr><td>Pasadena</td><td>Texas</td><td>TX</td></tr><tr><td>Pomona</td><td>California</td><td>CA</td></tr><tr><td>Alexandria[15]</td><td>Virginia</td><td>VA</td></tr><tr><td>Escondido</td><td>California</td><td>CA</td></tr><tr><td>Sunnyvale</td><td>California</td><td>CA</td></tr><tr><td>Lakewood</td><td>Colorado</td><td>CO</td></tr><tr><td>Kansas City[26]</td><td>Kansas</td><td>KS</td></tr><tr><td>Rockford</td><td>Illinois</td><td>IL</td></tr><tr><td>Torrance</td><td>California</td><td>CA</td></tr><tr><td>Hollywood</td><td>Florida</td><td>FL</td></tr><tr><td>Joliet</td><td>Illinois</td><td>IL</td></tr><tr><td>Bridgeport</td><td>Connecticut</td><td>CT</td></tr><tr><td>Clarksville</td><td>Tennessee</td><td>TN</td></tr><tr><td>Paterson</td><td>New Jersey</td><td>NJ</td></tr><tr><td>Naperville</td><td>Illinois</td><td>IL</td></tr><tr><td>Frisco</td><td>Texas</td><td>TX</td></tr><tr><td>Mesquite</td><td>Texas</td><td>TX</td></tr><tr><td>Savannah</td><td>Georgia</td><td>GA</td></tr><tr><td>Syracuse</td><td>New York</td><td>NY</td></tr><tr><td>Dayton</td><td>Ohio</td><td>OH</td></tr><tr><td>Pasadena</td><td>California</td><td>CA</td></tr><tr><td>Orange</td><td>California</td><td>CA</td></tr><tr><td>Fullerton</td><td>California</td><td>CA</td></tr><tr><td>McAllen</td><td>Texas</td><td>TX</td></tr><tr><td>Killeen</td><td>Texas</td><td>TX</td></tr><tr><td>Hampton[15]</td><td>Virginia</td><td>VA</td></tr><tr><td>Bellevue</td><td>Washington</td><td>WA</td></tr><tr><td>Warren</td><td>Michigan</td><td>MI</td></tr><tr><td>Miramar</td><td>Florida</td><td>FL</td></tr><tr><td>West Valley City</td><td>Utah</td><td>UT</td></tr><tr><td>Olathe</td><td>Kansas</td><td>KS</td></tr><tr><td>Columbia</td><td>South Carolina</td><td>SC</td></tr><tr><td>Sterling Heights</td><td>Michigan</td><td>MI</td></tr><tr><td>Thornton</td><td>Colorado</td><td>CO</td></tr><tr><td>New Haven</td><td>Connecticut</td><td>CT</td></tr><tr><td>Waco</td><td>Texas</td><td>TX</td></tr><tr><td>Charleston</td><td>South Carolina</td><td>SC</td></tr><tr><td>Thousand Oaks</td><td>California</td><td>CA</td></tr><tr><td>Visalia</td><td>California</td><td>CA</td></tr><tr><td>Cedar Rapids</td><td>Iowa</td><td>IA</td></tr><tr><td>Elizabeth</td><td>New Jersey</td><td>NJ</td></tr><tr><td>Roseville</td><td>California</td><td>CA</td></tr><tr><td>Gainesville</td><td>Florida</td><td>FL</td></tr><tr><td>Carrollton</td><td>Texas</td><td>TX</td></tr><tr><td>Stamford</td><td>Connecticut</td><td>CT</td></tr><tr><td>Denton</td><td>Texas</td><td>TX</td></tr><tr><td>Midland</td><td>Texas</td><td>TX</td></tr><tr><td>Coral Springs</td><td>Florida</td><td>FL</td></tr><tr><td>Concord</td><td>California</td><td>CA</td></tr><tr><td>Topeka</td><td>Kansas</td><td>KS</td></tr><tr><td>Simi Valley</td><td>California</td><td>CA</td></tr><tr><td>Surprise</td><td>Arizona</td><td>AZ</td></tr><tr><td>Lafayette[27]</td><td>Louisiana</td><td>LA</td></tr><tr><td>Kent</td><td>Washington</td><td>WA</td></tr><tr><td>Hartford</td><td>Connecticut</td><td>CT</td></tr><tr><td>Santa Clara</td><td>California</td><td>CA</td></tr><tr><td>Victorville</td><td>California</td><td>CA</td></tr><tr><td>Abilene</td><td>Texas</td><td>TX</td></tr><tr><td>Murfreesboro</td><td>Tennessee</td><td>TN</td></tr><tr><td>Evansville</td><td>Indiana</td><td>IN</td></tr><tr><td>Vallejo</td><td>California</td><td>CA</td></tr><tr><td>Athens[28]</td><td>Georgia</td><td>GA</td></tr><tr><td>Allentown</td><td>Pennsylvania</td><td>PA</td></tr><tr><td>Berkeley</td><td>California</td><td>CA</td></tr><tr><td>Norman</td><td>Oklahoma</td><td>OK</td></tr><tr><td>Ann Arbor</td><td>Michigan</td><td>MI</td></tr><tr><td>Beaumont</td><td>Texas</td><td>TX</td></tr><tr><td>Independence</td><td>Missouri</td><td>MO</td></tr><tr><td>Columbia</td><td>Missouri</td><td>MO</td></tr><tr><td>Springfield</td><td>Illinois</td><td>IL</td></tr><tr><td>El Monte</td><td>California</td><td>CA</td></tr><tr><td>Fargo</td><td>North Dakota</td><td>ND</td></tr><tr><td>Peoria</td><td>Illinois</td><td>IL</td></tr><tr><td>Provo</td><td>Utah</td><td>UT</td></tr><tr><td>Lansing</td><td>Michigan</td><td>MI</td></tr><tr><td>Odessa</td><td>Texas</td><td>TX</td></tr><tr><td>Downey</td><td>California</td><td>CA</td></tr><tr><td>Wilmington</td><td>North Carolina</td><td>NC</td></tr><tr><td>Arvada</td><td>Colorado</td><td>CO</td></tr><tr><td>Costa Mesa</td><td>California</td><td>CA</td></tr><tr><td>Round Rock</td><td>Texas</td><td>TX</td></tr><tr><td>Carlsbad</td><td>California</td><td>CA</td></tr><tr><td>Miami Gardens</td><td>Florida</td><td>FL</td></tr><tr><td>Westminster</td><td>Colorado</td><td>CO</td></tr><tr><td>Inglewood</td><td>California</td><td>CA</td></tr><tr><td>Rochester</td><td>Minnesota</td><td>MN</td></tr><tr><td>Fairfield</td><td>California</td><td>CA</td></tr><tr><td>Elgin</td><td>Illinois</td><td>IL</td></tr><tr><td>West Jordan</td><td>Utah</td><td>UT</td></tr><tr><td>Clearwater</td><td>Florida</td><td>FL</td></tr><tr><td>Manchester</td><td>New Hampshire</td><td>NH</td></tr><tr><td>Lowell</td><td>Massachusetts</td><td>MA</td></tr><tr><td>Gresham</td><td>Oregon</td><td>OR</td></tr><tr><td>Cambridge</td><td>Massachusetts</td><td>MA</td></tr><tr><td>Ventura[29]</td><td>California</td><td>CA</td></tr><tr><td>Temecula</td><td>California</td><td>CA</td></tr><tr><td>Waterbury</td><td>Connecticut</td><td>CT</td></tr><tr><td>Antioch</td><td>California</td><td>CA</td></tr><tr><td>Billings</td><td>Montana</td><td>MT</td></tr><tr><td>High Point</td><td>North Carolina</td><td>NC</td></tr><tr><td>Richardson</td><td>Texas</td><td>TX</td></tr><tr><td>Richmond</td><td>California</td><td>CA</td></tr><tr><td>West Covina</td><td>California</td><td>CA</td></tr><tr><td>Pueblo</td><td>Colorado</td><td>CO</td></tr><tr><td>Murrieta</td><td>California</td><td>CA</td></tr><tr><td>Centennial</td><td>Colorado</td><td>CO</td></tr><tr><td>Norwalk</td><td>California</td><td>CA</td></tr><tr><td>North Charleston</td><td>South Carolina</td><td>SC</td></tr><tr><td>Everett</td><td>Washington</td><td>WA</td></tr><tr><td>Pompano Beach</td><td>Florida</td><td>FL</td></tr><tr><td>Daly City</td><td>California</td><td>CA</td></tr><tr><td>Palm Bay</td><td>Florida</td><td>FL</td></tr><tr><td>Burbank</td><td>California</td><td>CA</td></tr><tr><td>Wichita Falls</td><td>Texas</td><td>TX</td></tr><tr><td>Boulder</td><td>Colorado</td><td>CO</td></tr><tr><td>Green Bay</td><td>Wisconsin</td><td>WI</td></tr><tr><td>Broken Arrow</td><td>Oklahoma</td><td>OK</td></tr><tr><td>West Palm Beach</td><td>Florida</td><td>FL</td></tr><tr><td>College Station</td><td>Texas</td><td>TX</td></tr><tr><td>Pearland</td><td>Texas</td><td>TX</td></tr><tr><td>Santa Maria</td><td>California</td><td>CA</td></tr><tr><td>El Cajon</td><td>California</td><td>CA</td></tr><tr><td>San Mateo</td><td>California</td><td>CA</td></tr><tr><td>Lewisville</td><td>Texas</td><td>TX</td></tr><tr><td>Rialto</td><td>California</td><td>CA</td></tr><tr><td>Davenport</td><td>Iowa</td><td>IA</td></tr><tr><td>Lakeland</td><td>Florida</td><td>FL</td></tr><tr><td>Clovis</td><td>California</td><td>CA</td></tr><tr><td>Sandy Springs</td><td>Georgia</td><td>GA</td></tr><tr><td>Tyler</td><td>Texas</td><td>TX</td></tr><tr><td>Las Cruces</td><td>New Mexico</td><td>NM</td></tr><tr><td>Macon</td><td>Georgia</td><td>GA</td></tr></tbody></table></div>"
      ]
     },
     "metadata": {
      "application/vnd.databricks.v1+output": {
       "addedWidgets": {},
       "aggData": [],
       "aggError": "",
       "aggOverflow": false,
       "aggSchema": [],
       "aggSeriesLimitReached": false,
       "aggType": "",
       "arguments": {},
       "columnCustomDisplayInfos": {},
       "data": [
        [
         "New York[6]",
         "New York",
         "NY"
        ],
        [
         "Los Angeles",
         "California",
         "CA"
        ],
        [
         "Chicago",
         "Illinois",
         "IL"
        ],
        [
         "Houston[7]",
         "Texas",
         "TX"
        ],
        [
         "Philadelphia[8]",
         "Pennsylvania",
         "PA"
        ],
        [
         "Phoenix",
         "Arizona",
         "AZ"
        ],
        [
         "San Antonio",
         "Texas",
         "TX"
        ],
        [
         "San Diego",
         "California",
         "CA"
        ],
        [
         "Dallas",
         "Texas",
         "TX"
        ],
        [
         "San Jose",
         "California",
         "CA"
        ],
        [
         "Austin",
         "Texas",
         "TX"
        ],
        [
         "Jacksonville[9]",
         "Florida",
         "FL"
        ],
        [
         "San Francisco[10]",
         "California",
         "CA"
        ],
        [
         "Indianapolis[11]",
         "Indiana",
         "IN"
        ],
        [
         "Columbus",
         "Ohio",
         "OH"
        ],
        [
         "Fort Worth",
         "Texas",
         "TX"
        ],
        [
         "Charlotte",
         "North Carolina",
         "NC"
        ],
        [
         "Detroit",
         "Michigan",
         "MI"
        ],
        [
         "El Paso",
         "Texas",
         "TX"
        ],
        [
         "Seattle",
         "Washington",
         "WA"
        ],
        [
         "Denver[12]",
         "Colorado",
         "CO"
        ],
        [
         "Washington[13]",
         "District of Columbia",
         "DC"
        ],
        [
         "Memphis",
         "Tennessee",
         "TN"
        ],
        [
         "Boston",
         "Massachusetts",
         "MA"
        ],
        [
         "Nashville[14]",
         "Tennessee",
         "TN"
        ],
        [
         "Baltimore[15]",
         "Maryland",
         "MD"
        ],
        [
         "Oklahoma City",
         "Oklahoma",
         "OK"
        ],
        [
         "Portland",
         "Oregon",
         "OR"
        ],
        [
         "Las Vegas",
         "Nevada",
         "NV"
        ],
        [
         "Louisville[16]",
         "Kentucky",
         "KY"
        ],
        [
         "Milwaukee",
         "Wisconsin",
         "WI"
        ],
        [
         "Albuquerque",
         "New Mexico",
         "NM"
        ],
        [
         "Tucson",
         "Arizona",
         "AZ"
        ],
        [
         "Fresno",
         "California",
         "CA"
        ],
        [
         "Sacramento",
         "California",
         "CA"
        ],
        [
         "Long Beach",
         "California",
         "CA"
        ],
        [
         "Kansas City",
         "Missouri",
         "MO"
        ],
        [
         "Mesa",
         "Arizona",
         "AZ"
        ],
        [
         "Atlanta",
         "Georgia",
         "GA"
        ],
        [
         "Virginia Beach[15]",
         "Virginia",
         "VA"
        ],
        [
         "Omaha",
         "Nebraska",
         "NE"
        ],
        [
         "Colorado Springs",
         "Colorado",
         "CO"
        ],
        [
         "Raleigh",
         "North Carolina",
         "NC"
        ],
        [
         "Miami",
         "Florida",
         "FL"
        ],
        [
         "Oakland",
         "California",
         "CA"
        ],
        [
         "Minneapolis",
         "Minnesota",
         "MN"
        ],
        [
         "Tulsa",
         "Oklahoma",
         "OK"
        ],
        [
         "Cleveland",
         "Ohio",
         "OH"
        ],
        [
         "Wichita",
         "Kansas",
         "KS"
        ],
        [
         "New Orleans[17]",
         "Louisiana",
         "LA"
        ],
        [
         "Arlington",
         "Texas",
         "TX"
        ],
        [
         "Bakersfield",
         "California",
         "CA"
        ],
        [
         "Tampa",
         "Florida",
         "FL"
        ],
        [
         "Aurora",
         "Colorado",
         "CO"
        ],
        [
         "Honolulu[2]",
         "Hawai'i",
         "HI"
        ],
        [
         "Anaheim",
         "California",
         "CA"
        ],
        [
         "Santa Ana",
         "California",
         "CA"
        ],
        [
         "Corpus Christi",
         "Texas",
         "TX"
        ],
        [
         "Riverside",
         "California",
         "CA"
        ],
        [
         "St. Louis[15]",
         "Missouri",
         "MO"
        ],
        [
         "Lexington[18]",
         "Kentucky",
         "KY"
        ],
        [
         "Pittsburgh",
         "Pennsylvania",
         "PA"
        ],
        [
         "Stockton",
         "California",
         "CA"
        ],
        [
         "Anchorage[19]",
         "Alaska",
         "AK"
        ],
        [
         "Cincinnati",
         "Ohio",
         "OH"
        ],
        [
         "Saint Paul",
         "Minnesota",
         "MN"
        ],
        [
         "Greensboro",
         "North Carolina",
         "NC"
        ],
        [
         "Toledo",
         "Ohio",
         "OH"
        ],
        [
         "Newark",
         "New Jersey",
         "NJ"
        ],
        [
         "Plano",
         "Texas",
         "TX"
        ],
        [
         "Henderson",
         "Nevada",
         "NV"
        ],
        [
         "Lincoln",
         "Nebraska",
         "NE"
        ],
        [
         "Orlando",
         "Florida",
         "FL"
        ],
        [
         "Jersey City",
         "New Jersey",
         "NJ"
        ],
        [
         "Chula Vista",
         "California",
         "CA"
        ],
        [
         "Buffalo",
         "New York",
         "NY"
        ],
        [
         "Fort Wayne",
         "Indiana",
         "IN"
        ],
        [
         "Chandler",
         "Arizona",
         "AZ"
        ],
        [
         "St. Petersburg",
         "Florida",
         "FL"
        ],
        [
         "Laredo",
         "Texas",
         "TX"
        ],
        [
         "Durham",
         "North Carolina",
         "NC"
        ],
        [
         "Irvine",
         "California",
         "CA"
        ],
        [
         "Madison",
         "Wisconsin",
         "WI"
        ],
        [
         "Norfolk[15]",
         "Virginia",
         "VA"
        ],
        [
         "Lubbock",
         "Texas",
         "TX"
        ],
        [
         "Gilbert[20]",
         "Arizona",
         "AZ"
        ],
        [
         "Winston�Salem",
         "North Carolina",
         "NC"
        ],
        [
         "Glendale",
         "Arizona",
         "AZ"
        ],
        [
         "Reno",
         "Nevada",
         "NV"
        ],
        [
         "Hialeah",
         "Florida",
         "FL"
        ],
        [
         "Garland",
         "Texas",
         "TX"
        ],
        [
         "Chesapeake[15]",
         "Virginia",
         "VA"
        ],
        [
         "Irving",
         "Texas",
         "TX"
        ],
        [
         "North Las Vegas",
         "Nevada",
         "NV"
        ],
        [
         "Scottsdale",
         "Arizona",
         "AZ"
        ],
        [
         "Baton Rouge[21]",
         "Louisiana",
         "LA"
        ],
        [
         "Fremont",
         "California",
         "CA"
        ],
        [
         "Richmond[15]",
         "Virginia",
         "VA"
        ],
        [
         "Boise[22]",
         "Idaho",
         "ID"
        ],
        [
         "San Bernardino",
         "California",
         "CA"
        ],
        [
         "Birmingham",
         "Alabama",
         "AL"
        ],
        [
         "Spokane",
         "Washington",
         "WA"
        ],
        [
         "Rochester",
         "New York",
         "NY"
        ],
        [
         "Modesto",
         "California",
         "CA"
        ],
        [
         "Des Moines",
         "Iowa",
         "IA"
        ],
        [
         "Oxnard",
         "California",
         "CA"
        ],
        [
         "Tacoma",
         "Washington",
         "WA"
        ],
        [
         "Fontana",
         "California",
         "CA"
        ],
        [
         "Fayetteville",
         "North Carolina",
         "NC"
        ],
        [
         "Moreno Valley",
         "California",
         "CA"
        ],
        [
         "Columbus[23]",
         "Georgia",
         "GA"
        ],
        [
         "Huntington Beach",
         "California",
         "CA"
        ],
        [
         "Yonkers",
         "New York",
         "NY"
        ],
        [
         "Montgomery",
         "Alabama",
         "AL"
        ],
        [
         "Aurora",
         "Illinois",
         "IL"
        ],
        [
         "Glendale",
         "California",
         "CA"
        ],
        [
         "Shreveport",
         "Louisiana",
         "LA"
        ],
        [
         "Akron",
         "Ohio",
         "OH"
        ],
        [
         "Little Rock",
         "Arkansas",
         "AR"
        ],
        [
         "Amarillo",
         "Texas",
         "TX"
        ],
        [
         "Augusta[24]",
         "Georgia",
         "GA"
        ],
        [
         "Mobile",
         "Alabama",
         "AL"
        ],
        [
         "Grand Rapids",
         "Michigan",
         "MI"
        ],
        [
         "Salt Lake City",
         "Utah",
         "UT"
        ],
        [
         "Huntsville",
         "Alabama",
         "AL"
        ],
        [
         "Tallahassee",
         "Florida",
         "FL"
        ],
        [
         "Grand Prairie",
         "Texas",
         "TX"
        ],
        [
         "Overland Park",
         "Kansas",
         "KS"
        ],
        [
         "Knoxville",
         "Tennessee",
         "TN"
        ],
        [
         "Brownsville",
         "Texas",
         "TX"
        ],
        [
         "Worcester",
         "Massachusetts",
         "MA"
        ],
        [
         "Newport News[15]",
         "Virginia",
         "VA"
        ],
        [
         "Santa Clarita",
         "California",
         "CA"
        ],
        [
         "Providence",
         "Rhode Island",
         "RI"
        ],
        [
         "Fort Lauderdale",
         "Florida",
         "FL"
        ],
        [
         "Garden Grove",
         "California",
         "CA"
        ],
        [
         "Oceanside",
         "California",
         "CA"
        ],
        [
         "Rancho Cucamonga",
         "California",
         "CA"
        ],
        [
         "Santa Rosa",
         "California",
         "CA"
        ],
        [
         "Port St. Lucie",
         "Florida",
         "FL"
        ],
        [
         "Chattanooga",
         "Tennessee",
         "TN"
        ],
        [
         "Tempe",
         "Arizona",
         "AZ"
        ],
        [
         "Jackson",
         "Mississippi",
         "MS"
        ],
        [
         "Cape Coral",
         "Florida",
         "FL"
        ],
        [
         "Vancouver",
         "Washington",
         "WA"
        ],
        [
         "Ontario",
         "California",
         "CA"
        ],
        [
         "Sioux Falls",
         "South Dakota",
         "SD"
        ],
        [
         "Peoria",
         "Arizona",
         "AZ"
        ],
        [
         "Springfield",
         "Missouri",
         "MO"
        ],
        [
         "Pembroke Pines",
         "Florida",
         "FL"
        ],
        [
         "Elk Grove",
         "California",
         "CA"
        ],
        [
         "Salem",
         "Oregon",
         "OR"
        ],
        [
         "Corona",
         "California",
         "CA"
        ],
        [
         "Lancaster",
         "California",
         "CA"
        ],
        [
         "Eugene",
         "Oregon",
         "OR"
        ],
        [
         "Palmdale",
         "California",
         "CA"
        ],
        [
         "McKinney",
         "Texas",
         "TX"
        ],
        [
         "Salinas",
         "California",
         "CA"
        ],
        [
         "Fort Collins",
         "Colorado",
         "CO"
        ],
        [
         "Cary[25]",
         "North Carolina",
         "NC"
        ],
        [
         "Hayward",
         "California",
         "CA"
        ],
        [
         "Springfield",
         "Massachusetts",
         "MA"
        ],
        [
         "Pasadena",
         "Texas",
         "TX"
        ],
        [
         "Pomona",
         "California",
         "CA"
        ],
        [
         "Alexandria[15]",
         "Virginia",
         "VA"
        ],
        [
         "Escondido",
         "California",
         "CA"
        ],
        [
         "Sunnyvale",
         "California",
         "CA"
        ],
        [
         "Lakewood",
         "Colorado",
         "CO"
        ],
        [
         "Kansas City[26]",
         "Kansas",
         "KS"
        ],
        [
         "Rockford",
         "Illinois",
         "IL"
        ],
        [
         "Torrance",
         "California",
         "CA"
        ],
        [
         "Hollywood",
         "Florida",
         "FL"
        ],
        [
         "Joliet",
         "Illinois",
         "IL"
        ],
        [
         "Bridgeport",
         "Connecticut",
         "CT"
        ],
        [
         "Clarksville",
         "Tennessee",
         "TN"
        ],
        [
         "Paterson",
         "New Jersey",
         "NJ"
        ],
        [
         "Naperville",
         "Illinois",
         "IL"
        ],
        [
         "Frisco",
         "Texas",
         "TX"
        ],
        [
         "Mesquite",
         "Texas",
         "TX"
        ],
        [
         "Savannah",
         "Georgia",
         "GA"
        ],
        [
         "Syracuse",
         "New York",
         "NY"
        ],
        [
         "Dayton",
         "Ohio",
         "OH"
        ],
        [
         "Pasadena",
         "California",
         "CA"
        ],
        [
         "Orange",
         "California",
         "CA"
        ],
        [
         "Fullerton",
         "California",
         "CA"
        ],
        [
         "McAllen",
         "Texas",
         "TX"
        ],
        [
         "Killeen",
         "Texas",
         "TX"
        ],
        [
         "Hampton[15]",
         "Virginia",
         "VA"
        ],
        [
         "Bellevue",
         "Washington",
         "WA"
        ],
        [
         "Warren",
         "Michigan",
         "MI"
        ],
        [
         "Miramar",
         "Florida",
         "FL"
        ],
        [
         "West Valley City",
         "Utah",
         "UT"
        ],
        [
         "Olathe",
         "Kansas",
         "KS"
        ],
        [
         "Columbia",
         "South Carolina",
         "SC"
        ],
        [
         "Sterling Heights",
         "Michigan",
         "MI"
        ],
        [
         "Thornton",
         "Colorado",
         "CO"
        ],
        [
         "New Haven",
         "Connecticut",
         "CT"
        ],
        [
         "Waco",
         "Texas",
         "TX"
        ],
        [
         "Charleston",
         "South Carolina",
         "SC"
        ],
        [
         "Thousand Oaks",
         "California",
         "CA"
        ],
        [
         "Visalia",
         "California",
         "CA"
        ],
        [
         "Cedar Rapids",
         "Iowa",
         "IA"
        ],
        [
         "Elizabeth",
         "New Jersey",
         "NJ"
        ],
        [
         "Roseville",
         "California",
         "CA"
        ],
        [
         "Gainesville",
         "Florida",
         "FL"
        ],
        [
         "Carrollton",
         "Texas",
         "TX"
        ],
        [
         "Stamford",
         "Connecticut",
         "CT"
        ],
        [
         "Denton",
         "Texas",
         "TX"
        ],
        [
         "Midland",
         "Texas",
         "TX"
        ],
        [
         "Coral Springs",
         "Florida",
         "FL"
        ],
        [
         "Concord",
         "California",
         "CA"
        ],
        [
         "Topeka",
         "Kansas",
         "KS"
        ],
        [
         "Simi Valley",
         "California",
         "CA"
        ],
        [
         "Surprise",
         "Arizona",
         "AZ"
        ],
        [
         "Lafayette[27]",
         "Louisiana",
         "LA"
        ],
        [
         "Kent",
         "Washington",
         "WA"
        ],
        [
         "Hartford",
         "Connecticut",
         "CT"
        ],
        [
         "Santa Clara",
         "California",
         "CA"
        ],
        [
         "Victorville",
         "California",
         "CA"
        ],
        [
         "Abilene",
         "Texas",
         "TX"
        ],
        [
         "Murfreesboro",
         "Tennessee",
         "TN"
        ],
        [
         "Evansville",
         "Indiana",
         "IN"
        ],
        [
         "Vallejo",
         "California",
         "CA"
        ],
        [
         "Athens[28]",
         "Georgia",
         "GA"
        ],
        [
         "Allentown",
         "Pennsylvania",
         "PA"
        ],
        [
         "Berkeley",
         "California",
         "CA"
        ],
        [
         "Norman",
         "Oklahoma",
         "OK"
        ],
        [
         "Ann Arbor",
         "Michigan",
         "MI"
        ],
        [
         "Beaumont",
         "Texas",
         "TX"
        ],
        [
         "Independence",
         "Missouri",
         "MO"
        ],
        [
         "Columbia",
         "Missouri",
         "MO"
        ],
        [
         "Springfield",
         "Illinois",
         "IL"
        ],
        [
         "El Monte",
         "California",
         "CA"
        ],
        [
         "Fargo",
         "North Dakota",
         "ND"
        ],
        [
         "Peoria",
         "Illinois",
         "IL"
        ],
        [
         "Provo",
         "Utah",
         "UT"
        ],
        [
         "Lansing",
         "Michigan",
         "MI"
        ],
        [
         "Odessa",
         "Texas",
         "TX"
        ],
        [
         "Downey",
         "California",
         "CA"
        ],
        [
         "Wilmington",
         "North Carolina",
         "NC"
        ],
        [
         "Arvada",
         "Colorado",
         "CO"
        ],
        [
         "Costa Mesa",
         "California",
         "CA"
        ],
        [
         "Round Rock",
         "Texas",
         "TX"
        ],
        [
         "Carlsbad",
         "California",
         "CA"
        ],
        [
         "Miami Gardens",
         "Florida",
         "FL"
        ],
        [
         "Westminster",
         "Colorado",
         "CO"
        ],
        [
         "Inglewood",
         "California",
         "CA"
        ],
        [
         "Rochester",
         "Minnesota",
         "MN"
        ],
        [
         "Fairfield",
         "California",
         "CA"
        ],
        [
         "Elgin",
         "Illinois",
         "IL"
        ],
        [
         "West Jordan",
         "Utah",
         "UT"
        ],
        [
         "Clearwater",
         "Florida",
         "FL"
        ],
        [
         "Manchester",
         "New Hampshire",
         "NH"
        ],
        [
         "Lowell",
         "Massachusetts",
         "MA"
        ],
        [
         "Gresham",
         "Oregon",
         "OR"
        ],
        [
         "Cambridge",
         "Massachusetts",
         "MA"
        ],
        [
         "Ventura[29]",
         "California",
         "CA"
        ],
        [
         "Temecula",
         "California",
         "CA"
        ],
        [
         "Waterbury",
         "Connecticut",
         "CT"
        ],
        [
         "Antioch",
         "California",
         "CA"
        ],
        [
         "Billings",
         "Montana",
         "MT"
        ],
        [
         "High Point",
         "North Carolina",
         "NC"
        ],
        [
         "Richardson",
         "Texas",
         "TX"
        ],
        [
         "Richmond",
         "California",
         "CA"
        ],
        [
         "West Covina",
         "California",
         "CA"
        ],
        [
         "Pueblo",
         "Colorado",
         "CO"
        ],
        [
         "Murrieta",
         "California",
         "CA"
        ],
        [
         "Centennial",
         "Colorado",
         "CO"
        ],
        [
         "Norwalk",
         "California",
         "CA"
        ],
        [
         "North Charleston",
         "South Carolina",
         "SC"
        ],
        [
         "Everett",
         "Washington",
         "WA"
        ],
        [
         "Pompano Beach",
         "Florida",
         "FL"
        ],
        [
         "Daly City",
         "California",
         "CA"
        ],
        [
         "Palm Bay",
         "Florida",
         "FL"
        ],
        [
         "Burbank",
         "California",
         "CA"
        ],
        [
         "Wichita Falls",
         "Texas",
         "TX"
        ],
        [
         "Boulder",
         "Colorado",
         "CO"
        ],
        [
         "Green Bay",
         "Wisconsin",
         "WI"
        ],
        [
         "Broken Arrow",
         "Oklahoma",
         "OK"
        ],
        [
         "West Palm Beach",
         "Florida",
         "FL"
        ],
        [
         "College Station",
         "Texas",
         "TX"
        ],
        [
         "Pearland",
         "Texas",
         "TX"
        ],
        [
         "Santa Maria",
         "California",
         "CA"
        ],
        [
         "El Cajon",
         "California",
         "CA"
        ],
        [
         "San Mateo",
         "California",
         "CA"
        ],
        [
         "Lewisville",
         "Texas",
         "TX"
        ],
        [
         "Rialto",
         "California",
         "CA"
        ],
        [
         "Davenport",
         "Iowa",
         "IA"
        ],
        [
         "Lakeland",
         "Florida",
         "FL"
        ],
        [
         "Clovis",
         "California",
         "CA"
        ],
        [
         "Sandy Springs",
         "Georgia",
         "GA"
        ],
        [
         "Tyler",
         "Texas",
         "TX"
        ],
        [
         "Las Cruces",
         "New Mexico",
         "NM"
        ],
        [
         "Macon",
         "Georgia",
         "GA"
        ]
       ],
       "datasetInfos": [],
       "dbfsResultPath": null,
       "isJsonSchema": true,
       "metadata": {},
       "overflow": false,
       "plotOptions": {
        "customPlotOptions": {},
        "displayType": "table",
        "pivotAggregation": null,
        "pivotColumns": null,
        "xColumns": null,
        "yColumns": null
       },
       "removedWidgets": [],
       "schema": [
        {
         "metadata": "{}",
         "name": "city",
         "type": "\"string\""
        },
        {
         "metadata": "{}",
         "name": "state",
         "type": "\"string\""
        },
        {
         "metadata": "{}",
         "name": "state code",
         "type": "\"string\""
        }
       ],
       "type": "table"
      }
     },
     "output_type": "display_data"
    },
    {
     "output_type": "display_data",
     "data": {
      "text/plain": [
       "Databricks visualization. Run in Databricks to view."
      ]
     },
     "metadata": {
      "application/vnd.databricks.v1.subcommand+json": {
       "baseErrorDetails": null,
       "bindings": {},
       "collapsed": false,
       "command": "%python\n__backend_agg_display_orig = display\n__backend_agg_dfs = []\ndef __backend_agg_display_new(df):\n    __backend_agg_df_modules = [\"pandas.core.frame\", \"databricks.koalas.frame\", \"pyspark.sql.dataframe\", \"pyspark.pandas.frame\", \"pyspark.sql.connect.dataframe\"]\n    if (type(df).__module__ in __backend_agg_df_modules and type(df).__name__ == 'DataFrame') or isinstance(df, list):\n        __backend_agg_dfs.append(df)\n\ndisplay = __backend_agg_display_new\n\ndef __backend_agg_user_code_fn():\n    import base64\n    exec(base64.standard_b64decode(\"IyBUb3AgMTAgbW9zdCBwb3B1bGF0b3VzIGNpdGllcwoKZGlzcGxheShkZl9zZWxlY3RlZC5vcmRlckJ5KGRmX3NlbGVjdGVkWyIyMDE0IFBvcHVsYXRpb24gZXN0aW1hdGUiXS5kZXNjKCkpLnNlbGVjdCgiY2l0eSIsInN0YXRlIiwic3RhdGUgY29kZSIpKQ==\").decode())\n\ntry:\n    # run user code\n    __backend_agg_user_code_fn()\n\n    #reset display function\n    display = __backend_agg_display_orig\n\n    if len(__backend_agg_dfs) > 0:\n        # create a temp view\n        if type(__backend_agg_dfs[0]).__module__ == \"databricks.koalas.frame\":\n            # koalas dataframe\n            __backend_agg_dfs[0].to_spark().createOrReplaceTempView(\"DatabricksView3eac21b\")\n        elif type(__backend_agg_dfs[0]).__module__ == \"pandas.core.frame\" or isinstance(__backend_agg_dfs[0], list):\n            # pandas dataframe\n            spark.createDataFrame(__backend_agg_dfs[0]).createOrReplaceTempView(\"DatabricksView3eac21b\")\n        else:\n            __backend_agg_dfs[0].createOrReplaceTempView(\"DatabricksView3eac21b\")\n        #run backend agg\n        display(spark.sql(\"\"\"WITH q AS (select * from DatabricksView3eac21b) SELECT `state`,COUNT(*) `column_ca722dcb44` FROM q GROUP BY `state`\"\"\"))\n    else:\n        displayHTML(\"dataframe no longer exists. If you're using dataframe.display(), use display(dataframe) instead.\")\n\n\nfinally:\n    spark.sql(\"drop view if exists DatabricksView3eac21b\")\n    display = __backend_agg_display_orig\n    del __backend_agg_display_new\n    del __backend_agg_display_orig\n    del __backend_agg_dfs\n    del __backend_agg_user_code_fn\n\n",
       "commandTitle": "Visualization 1",
       "commandType": "auto",
       "commandVersion": 0,
       "commentThread": [],
       "commentsVisible": false,
       "contentSha256Hex": null,
       "customPlotOptions": {
        "redashChart": [
         {
          "key": "type",
          "value": "CHART"
         },
         {
          "key": "options",
          "value": {
           "alignYAxesAtZero": true,
           "coefficient": 1,
           "columnConfigurationMap": {
            "x": {
             "column": "state",
             "id": "column_ca722dcb43"
            },
            "y": [
             {
              "column": "*",
              "id": "column_ca722dcb44",
              "transform": "COUNT"
             }
            ]
           },
           "dateTimeFormat": "DD/MM/YYYY HH:mm",
           "direction": {
            "type": "counterclockwise"
           },
           "error_y": {
            "type": "data",
            "visible": true
           },
           "globalSeriesType": "column",
           "isAggregationOn": true,
           "legend": {
            "traceorder": "normal"
           },
           "missingValuesAsZero": true,
           "numberFormat": "0,0.[00000]",
           "percentFormat": "0[.]00%",
           "series": {
            "error_y": {
             "type": "data",
             "visible": true
            },
            "stacking": null
           },
           "seriesOptions": {
            "column_ca722dcb44": {
             "type": "column",
             "yAxis": 0
            }
           },
           "showDataLabels": false,
           "sizemode": "diameter",
           "sortX": true,
           "sortY": true,
           "swappedAxes": false,
           "textFormat": "",
           "useAggregationsUi": true,
           "valuesOptions": {},
           "version": 2,
           "xAxis": {
            "labels": {
             "enabled": true
            },
            "type": "-"
           },
           "yAxis": [
            {
             "type": "-"
            },
            {
             "opposite": true,
             "type": "-"
            }
           ]
          }
         }
        ]
       },
       "datasetPreviewNameToCmdIdMap": {},
       "diffDeletes": [],
       "diffInserts": [],
       "displayType": "redashChart",
       "error": null,
       "errorDetails": null,
       "errorSummary": null,
       "errorTraceType": null,
       "finishTime": 0,
       "globalVars": {},
       "guid": "",
       "height": "auto",
       "hideCommandCode": false,
       "hideCommandResult": false,
       "iPythonMetadata": null,
       "inputWidgets": {},
       "isLockedInExamMode": false,
       "latestUser": "a user",
       "latestUserId": null,
       "listResultMetadata": null,
       "metadata": {},
       "nuid": "c7b4aad6-45c9-4d09-84a0-c0a701c7256d",
       "origId": 0,
       "parentHierarchy": [],
       "pivotAggregation": null,
       "pivotColumns": null,
       "position": 4.0,
       "resultDbfsErrorMessage": null,
       "resultDbfsStatus": "INLINED_IN_TREE",
       "results": null,
       "showCommandTitle": false,
       "startTime": 0,
       "state": "input",
       "streamStates": {},
       "subcommandOptions": {
        "queryPlan": {
         "groups": [
          {
           "column": "state",
           "type": "column"
          }
         ],
         "selects": [
          {
           "column": "state",
           "type": "column"
          },
          {
           "alias": "column_ca722dcb44",
           "args": [
            {
             "column": "*",
             "type": "column"
            }
           ],
           "function": "COUNT",
           "type": "function"
          }
         ]
        }
       },
       "submitTime": 0,
       "subtype": "tableResultSubCmd.visualization",
       "tableResultIndex": 0,
       "tableResultSettingsMap": {},
       "useConsistentColors": false,
       "version": "CommandV1",
       "width": "auto",
       "workflows": [],
       "xColumns": null,
       "yColumns": null
      }
     },
     "output_type": "display_data"
    }
   ],
   "source": [
    "# Top 10 most populatous cities\n",
    "\n",
    "display(df_selected.orderBy(df_selected[\"2014 Population estimate\"].desc()).select(\"city\",\"state\",\"state code\"))"
   ]
  },
  {
   "cell_type": "code",
   "execution_count": 0,
   "metadata": {
    "application/vnd.databricks.v1+cell": {
     "cellMetadata": {
      "byteLimit": 2048000,
      "rowLimit": 10000
     },
     "inputWidgets": {},
     "nuid": "c5c38827-0959-4553-8752-432faa13e146",
     "showTitle": false,
     "tableResultSettingsMap": {},
     "title": ""
    }
   },
   "outputs": [
    {
     "output_type": "stream",
     "name": "stdout",
     "output_type": "stream",
     "text": [
      "+--------------------+--------------------------+\n|               State|Average_Median_Sales_Price|\n+--------------------+--------------------------+\n|             Hawai'i|                     699.3|\n|          California|         547.9714285714286|\n|District of Columbia|                     367.8|\n|          New Jersey|                     350.8|\n|            Colorado|        333.46666666666664|\n|          Washington|        266.29999999999995|\n|       Massachusetts|                     261.8|\n|         Connecticut|        250.13333333333333|\n|                Utah|                     243.3|\n|       New Hampshire|                     237.4|\n+--------------------+--------------------------+\nonly showing top 10 rows\n\n"
     ]
    }
   ],
   "source": [
    "# Average median sales price by State \n",
    "from pyspark.sql.functions import avg\n",
    "\n",
    "# Group by State and calculate average of \"2015 median sales price\"\n",
    "avg_price_by_state = df_selected.groupBy(\"State\").agg(\n",
    "    avg(\"2015 median sales price\").alias(\"Average_Median_Sales_Price\")\n",
    ")\n",
    "# Show the result\n",
    "avg_price_by_state.orderBy(\"Average_Median_Sales_Price\", ascending=False).show(10)"
   ]
  },
  {
   "cell_type": "code",
   "execution_count": 0,
   "metadata": {
    "application/vnd.databricks.v1+cell": {
     "cellMetadata": {
      "byteLimit": 2048000,
      "rowLimit": 10000
     },
     "inputWidgets": {},
     "nuid": "5661d01b-a6fb-4af0-8c81-3d44f687f8fa",
     "showTitle": false,
     "tableResultSettingsMap": {},
     "title": ""
    }
   },
   "outputs": [
    {
     "output_type": "display_data",
     "data": {
      "text/html": [
       "<style scoped>\n",
       "  .table-result-container {\n",
       "    max-height: 300px;\n",
       "    overflow: auto;\n",
       "  }\n",
       "  table, th, td {\n",
       "    border: 1px solid black;\n",
       "    border-collapse: collapse;\n",
       "  }\n",
       "  th, td {\n",
       "    padding: 5px;\n",
       "  }\n",
       "  th {\n",
       "    text-align: left;\n",
       "  }\n",
       "</style><div class='table-result-container'><table class='table-result'><thead style='background-color: white'><tr><th>city</th><th>2014 Population estimate</th></tr></thead><tbody><tr><td>Yonkers</td><td>200667</td></tr><tr><td>Worcester</td><td>183016</td></tr><tr><td>Winston�Salem</td><td>239269</td></tr><tr><td>Wilmington</td><td>113657</td></tr><tr><td>Wichita Falls</td><td>105114</td></tr><tr><td>Wichita</td><td>388413</td></tr><tr><td>Westminster</td><td>112090</td></tr><tr><td>West Valley City</td><td>134495</td></tr><tr><td>West Palm Beach</td><td>104031</td></tr><tr><td>West Jordan</td><td>110920</td></tr><tr><td>West Covina</td><td>108455</td></tr><tr><td>Waterbury</td><td>109307</td></tr><tr><td>Washington[13]</td><td>658893</td></tr><tr><td>Warren</td><td>135099</td></tr><tr><td>Waco</td><td>130194</td></tr><tr><td>Visalia</td><td>129281</td></tr><tr><td>Virginia Beach[15]</td><td>450980</td></tr><tr><td>Victorville</td><td>121901</td></tr><tr><td>Ventura[29]</td><td>109484</td></tr><tr><td>Vancouver</td><td>169294</td></tr><tr><td>Vallejo</td><td>120228</td></tr><tr><td>Tyler</td><td>101421</td></tr><tr><td>Tulsa</td><td>399682</td></tr><tr><td>Tucson</td><td>527972</td></tr><tr><td>Torrance</td><td>148495</td></tr><tr><td>Topeka</td><td>127215</td></tr><tr><td>Toledo</td><td>281031</td></tr><tr><td>Thousand Oaks</td><td>129342</td></tr><tr><td>Thornton</td><td>130307</td></tr><tr><td>Tempe</td><td>172816</td></tr><tr><td>Temecula</td><td>109428</td></tr><tr><td>Tampa</td><td>358699</td></tr><tr><td>Tallahassee</td><td>188107</td></tr><tr><td>Tacoma</td><td>205159</td></tr><tr><td>Syracuse</td><td>144263</td></tr><tr><td>Surprise</td><td>126275</td></tr><tr><td>Sunnyvale</td><td>149980</td></tr><tr><td>Stockton</td><td>302389</td></tr><tr><td>Sterling Heights</td><td>131741</td></tr><tr><td>Stamford</td><td>128278</td></tr><tr><td>St. Petersburg</td><td>253693</td></tr><tr><td>St. Louis[15]</td><td>317419</td></tr><tr><td>Springfield</td><td>116809</td></tr><tr><td>Springfield</td><td>153991</td></tr><tr><td>Springfield</td><td>165378</td></tr><tr><td>Spokane</td><td>212052</td></tr><tr><td>Sioux Falls</td><td>168586</td></tr><tr><td>Simi Valley</td><td>126871</td></tr><tr><td>Shreveport</td><td>198242</td></tr><tr><td>Seattle</td><td>668342</td></tr><tr><td>Scottsdale</td><td>230512</td></tr><tr><td>Savannah</td><td>144352</td></tr><tr><td>Santa Rosa</td><td>174170</td></tr><tr><td>Santa Maria</td><td>103410</td></tr><tr><td>Santa Clarita</td><td>181557</td></tr><tr><td>Santa Clara</td><td>122192</td></tr><tr><td>Santa Ana</td><td>334909</td></tr><tr><td>Sandy Springs</td><td>101908</td></tr><tr><td>San Mateo</td><td>102893</td></tr><tr><td>San Jose</td><td>1015785</td></tr><tr><td>San Francisco[10]</td><td>852469</td></tr><tr><td>San Diego</td><td>1381069</td></tr><tr><td>San Bernardino</td><td>215213</td></tr><tr><td>San Antonio</td><td>1436697</td></tr><tr><td>Salt Lake City</td><td>190884</td></tr><tr><td>Salinas</td><td>156677</td></tr><tr><td>Salem</td><td>161637</td></tr><tr><td>Saint Paul</td><td>297640</td></tr><tr><td>Sacramento</td><td>485199</td></tr><tr><td>Round Rock</td><td>112744</td></tr><tr><td>Roseville</td><td>128615</td></tr><tr><td>Rockford</td><td>149123</td></tr><tr><td>Rochester</td><td>111402</td></tr><tr><td>Rochester</td><td>209983</td></tr><tr><td>Riverside</td><td>319504</td></tr><tr><td>Richmond[15]</td><td>217853</td></tr><tr><td>Richmond</td><td>108565</td></tr><tr><td>Richardson</td><td>108617</td></tr><tr><td>Rialto</td><td>102741</td></tr><tr><td>Reno</td><td>236995</td></tr><tr><td>Rancho Cucamonga</td><td>174305</td></tr><tr><td>Raleigh</td><td>439896</td></tr><tr><td>Pueblo</td><td>108423</td></tr><tr><td>Provo</td><td>114801</td></tr><tr><td>Providence</td><td>179154</td></tr><tr><td>Portland</td><td>619360</td></tr><tr><td>Port St. Lucie</td><td>174110</td></tr><tr><td>Pompano Beach</td><td>106105</td></tr><tr><td>Pomona</td><td>153350</td></tr><tr><td>Plano</td><td>278480</td></tr><tr><td>Pittsburgh</td><td>305412</td></tr><tr><td>Phoenix</td><td>1537058</td></tr><tr><td>Philadelphia[8]</td><td>1560297</td></tr><tr><td>Peoria</td><td>166934</td></tr><tr><td>Peoria</td><td>115828</td></tr><tr><td>Pembroke Pines</td><td>164626</td></tr><tr><td>Pearland</td><td>103441</td></tr><tr><td>Paterson</td><td>146753</td></tr><tr><td>Pasadena</td><td>140881</td></tr><tr><td>Pasadena</td><td>153887</td></tr><tr><td>Palmdale</td><td>158279</td></tr><tr><td>Palm Bay</td><td>105838</td></tr><tr><td>Oxnard</td><td>205437</td></tr><tr><td>Overland Park</td><td>184525</td></tr><tr><td>Orlando</td><td>262372</td></tr><tr><td>Orange</td><td>139812</td></tr><tr><td>Ontario</td><td>169089</td></tr><tr><td>Omaha</td><td>446599</td></tr><tr><td>Olathe</td><td>133062</td></tr><tr><td>Oklahoma City</td><td>620602</td></tr><tr><td>Odessa</td><td>114597</td></tr><tr><td>Oceanside</td><td>174558</td></tr><tr><td>Oakland</td><td>413775</td></tr><tr><td>Norwalk</td><td>107096</td></tr><tr><td>North Las Vegas</td><td>230788</td></tr><tr><td>North Charleston</td><td>106749</td></tr><tr><td>Norman</td><td>118040</td></tr><tr><td>Norfolk[15]</td><td>245428</td></tr><tr><td>Newport News[15]</td><td>182965</td></tr><tr><td>Newark</td><td>280579</td></tr><tr><td>New York[6]</td><td>8491079</td></tr><tr><td>New Orleans[17]</td><td>384320</td></tr><tr><td>New Haven</td><td>130282</td></tr><tr><td>Nashville[14]</td><td>644014</td></tr><tr><td>Naperville</td><td>146128</td></tr><tr><td>Murrieta</td><td>108368</td></tr><tr><td>Murfreesboro</td><td>120954</td></tr><tr><td>Moreno Valley</td><td>202976</td></tr><tr><td>Montgomery</td><td>200481</td></tr><tr><td>Modesto</td><td>209286</td></tr><tr><td>Mobile</td><td>194675</td></tr><tr><td>Miramar</td><td>134989</td></tr><tr><td>Minneapolis</td><td>407207</td></tr><tr><td>Milwaukee</td><td>599642</td></tr><tr><td>Midland</td><td>128037</td></tr><tr><td>Miami Gardens</td><td>112265</td></tr><tr><td>Miami</td><td>430332</td></tr><tr><td>Mesquite</td><td>144416</td></tr><tr><td>Mesa</td><td>464704</td></tr><tr><td>Memphis</td><td>656861</td></tr><tr><td>McKinney</td><td>156767</td></tr><tr><td>McAllen</td><td>138596</td></tr><tr><td>Manchester</td><td>110448</td></tr><tr><td>Madison</td><td>245691</td></tr><tr><td>Macon</td><td>null</td></tr><tr><td>Lubbock</td><td>243839</td></tr><tr><td>Lowell</td><td>109945</td></tr><tr><td>Louisville[16]</td><td>612780</td></tr><tr><td>Los Angeles</td><td>3928864</td></tr><tr><td>Long Beach</td><td>473577</td></tr><tr><td>Little Rock</td><td>197706</td></tr><tr><td>Lincoln</td><td>272996</td></tr><tr><td>Lexington[18]</td><td>310797</td></tr><tr><td>Lewisville</td><td>102889</td></tr><tr><td>Las Vegas</td><td>613599</td></tr><tr><td>Las Cruces</td><td>101408</td></tr><tr><td>Laredo</td><td>252309</td></tr><tr><td>Lansing</td><td>114620</td></tr><tr><td>Lancaster</td><td>161043</td></tr><tr><td>Lakewood</td><td>149643</td></tr><tr><td>Lakeland</td><td>102346</td></tr><tr><td>Lafayette[27]</td><td>126066</td></tr><tr><td>Knoxville</td><td>184281</td></tr><tr><td>Killeen</td><td>138154</td></tr><tr><td>Kent</td><td>125560</td></tr><tr><td>Kansas City[26]</td><td>149636</td></tr><tr><td>Kansas City</td><td>470800</td></tr><tr><td>Joliet</td><td>147928</td></tr><tr><td>Jersey City</td><td>262146</td></tr><tr><td>Jacksonville[9]</td><td>853382</td></tr><tr><td>Jackson</td><td>171155</td></tr><tr><td>Irving</td><td>232406</td></tr><tr><td>Irvine</td><td>248531</td></tr><tr><td>Inglewood</td><td>111905</td></tr><tr><td>Indianapolis[11]</td><td>848788</td></tr><tr><td>Independence</td><td>117494</td></tr><tr><td>Huntsville</td><td>188226</td></tr><tr><td>Huntington Beach</td><td>200809</td></tr><tr><td>Houston[7]</td><td>2239558</td></tr><tr><td>Honolulu[2]</td><td>350399</td></tr><tr><td>Hollywood</td><td>148047</td></tr><tr><td>High Point</td><td>108629</td></tr><tr><td>Hialeah</td><td>235563</td></tr><tr><td>Henderson</td><td>277440</td></tr><tr><td>Hayward</td><td>154612</td></tr><tr><td>Hartford</td><td>124705</td></tr><tr><td>Hampton[15]</td><td>136879</td></tr><tr><td>Gresham</td><td>109892</td></tr><tr><td>Greensboro</td><td>282586</td></tr><tr><td>Green Bay</td><td>104891</td></tr><tr><td>Grand Rapids</td><td>193792</td></tr><tr><td>Grand Prairie</td><td>185453</td></tr><tr><td>Glendale</td><td>237517</td></tr><tr><td>Glendale</td><td>200167</td></tr><tr><td>Gilbert[20]</td><td>239277</td></tr><tr><td>Garland</td><td>235501</td></tr><tr><td>Garden Grove</td><td>175078</td></tr><tr><td>Gainesville</td><td>128460</td></tr><tr><td>Fullerton</td><td>139677</td></tr><tr><td>Frisco</td><td>145035</td></tr><tr><td>Fresno</td><td>515986</td></tr><tr><td>Fremont</td><td>228758</td></tr><tr><td>Fort Worth</td><td>812238</td></tr><tr><td>Fort Wayne</td><td>258522</td></tr><tr><td>Fort Lauderdale</td><td>176013</td></tr><tr><td>Fort Collins</td><td>156480</td></tr><tr><td>Fontana</td><td>204950</td></tr><tr><td>Fayetteville</td><td>203948</td></tr><tr><td>Fargo</td><td>115863</td></tr><tr><td>Fairfield</td><td>111125</td></tr><tr><td>Everett</td><td>106736</td></tr><tr><td>Evansville</td><td>120346</td></tr><tr><td>Eugene</td><td>160561</td></tr><tr><td>Escondido</td><td>150243</td></tr><tr><td>Elk Grove</td><td>163553</td></tr><tr><td>Elizabeth</td><td>128705</td></tr><tr><td>Elgin</td><td>111117</td></tr><tr><td>El Paso</td><td>679036</td></tr><tr><td>El Monte</td><td>116631</td></tr><tr><td>El Cajon</td><td>103091</td></tr><tr><td>Durham</td><td>251893</td></tr><tr><td>Downey</td><td>114172</td></tr><tr><td>Detroit</td><td>680250</td></tr><tr><td>Des Moines</td><td>209220</td></tr><tr><td>Denver[12]</td><td>663862</td></tr><tr><td>Denton</td><td>128205</td></tr><tr><td>Dayton</td><td>141003</td></tr><tr><td>Davenport</td><td>102448</td></tr><tr><td>Daly City</td><td>106094</td></tr><tr><td>Dallas</td><td>1281047</td></tr><tr><td>Costa Mesa</td><td>112784</td></tr><tr><td>Corpus Christi</td><td>320434</td></tr><tr><td>Corona</td><td>161486</td></tr><tr><td>Coral Springs</td><td>127952</td></tr><tr><td>Concord</td><td>127522</td></tr><tr><td>Columbus[23]</td><td>200887</td></tr><tr><td>Columbus</td><td>835957</td></tr><tr><td>Columbia</td><td>116906</td></tr><tr><td>Columbia</td><td>132067</td></tr><tr><td>Colorado Springs</td><td>445830</td></tr><tr><td>College Station</td><td>103483</td></tr><tr><td>Clovis</td><td>102189</td></tr><tr><td>Cleveland</td><td>389521</td></tr><tr><td>Clearwater</td><td>110703</td></tr><tr><td>Clarksville</td><td>146806</td></tr><tr><td>Cincinnati</td><td>298165</td></tr><tr><td>Chula Vista</td><td>260988</td></tr><tr><td>Chicago</td><td>2722389</td></tr><tr><td>Chesapeake[15]</td><td>233371</td></tr><tr><td>Chattanooga</td><td>173778</td></tr><tr><td>Charlotte</td><td>809958</td></tr><tr><td>Charleston</td><td>130113</td></tr><tr><td>Chandler</td><td>254276</td></tr><tr><td>Centennial</td><td>107201</td></tr><tr><td>Cedar Rapids</td><td>129195</td></tr><tr><td>Cary[25]</td><td>155227</td></tr><tr><td>Carrollton</td><td>128353</td></tr><tr><td>Carlsbad</td><td>112299</td></tr><tr><td>Cape Coral</td><td>169854</td></tr><tr><td>Cambridge</td><td>109694</td></tr><tr><td>Burbank</td><td>105368</td></tr><tr><td>Buffalo</td><td>258703</td></tr><tr><td>Brownsville</td><td>183046</td></tr><tr><td>Broken Arrow</td><td>104726</td></tr><tr><td>Bridgeport</td><td>147612</td></tr><tr><td>Boulder</td><td>105112</td></tr><tr><td>Boston</td><td>655884</td></tr><tr><td>Boise[22]</td><td>216282</td></tr><tr><td>Birmingham</td><td>212247</td></tr><tr><td>Billings</td><td>108869</td></tr><tr><td>Berkeley</td><td>118853</td></tr><tr><td>Bellevue</td><td>136426</td></tr><tr><td>Beaumont</td><td>117585</td></tr><tr><td>Baton Rouge[21]</td><td>228895</td></tr><tr><td>Baltimore[15]</td><td>622793</td></tr><tr><td>Bakersfield</td><td>368759</td></tr><tr><td>Austin</td><td>912791</td></tr><tr><td>Aurora</td><td>353108</td></tr><tr><td>Aurora</td><td>200456</td></tr><tr><td>Augusta[24]</td><td>196741</td></tr><tr><td>Atlanta</td><td>456002</td></tr><tr><td>Athens[28]</td><td>119648</td></tr><tr><td>Arvada</td><td>113574</td></tr><tr><td>Arlington</td><td>383204</td></tr><tr><td>Antioch</td><td>108930</td></tr><tr><td>Ann Arbor</td><td>117770</td></tr><tr><td>Anchorage[19]</td><td>301010</td></tr><tr><td>Anaheim</td><td>346997</td></tr><tr><td>Amarillo</td><td>197254</td></tr><tr><td>Allentown</td><td>119104</td></tr><tr><td>Alexandria[15]</td><td>150575</td></tr><tr><td>Albuquerque</td><td>557169</td></tr><tr><td>Akron</td><td>197859</td></tr><tr><td>Abilene</td><td>120958</td></tr></tbody></table></div>"
      ]
     },
     "metadata": {
      "application/vnd.databricks.v1+output": {
       "addedWidgets": {},
       "aggData": [],
       "aggError": "",
       "aggOverflow": false,
       "aggSchema": [],
       "aggSeriesLimitReached": false,
       "aggType": "",
       "arguments": {},
       "columnCustomDisplayInfos": {},
       "data": [
        [
         "Yonkers",
         200667
        ],
        [
         "Worcester",
         183016
        ],
        [
         "Winston�Salem",
         239269
        ],
        [
         "Wilmington",
         113657
        ],
        [
         "Wichita Falls",
         105114
        ],
        [
         "Wichita",
         388413
        ],
        [
         "Westminster",
         112090
        ],
        [
         "West Valley City",
         134495
        ],
        [
         "West Palm Beach",
         104031
        ],
        [
         "West Jordan",
         110920
        ],
        [
         "West Covina",
         108455
        ],
        [
         "Waterbury",
         109307
        ],
        [
         "Washington[13]",
         658893
        ],
        [
         "Warren",
         135099
        ],
        [
         "Waco",
         130194
        ],
        [
         "Visalia",
         129281
        ],
        [
         "Virginia Beach[15]",
         450980
        ],
        [
         "Victorville",
         121901
        ],
        [
         "Ventura[29]",
         109484
        ],
        [
         "Vancouver",
         169294
        ],
        [
         "Vallejo",
         120228
        ],
        [
         "Tyler",
         101421
        ],
        [
         "Tulsa",
         399682
        ],
        [
         "Tucson",
         527972
        ],
        [
         "Torrance",
         148495
        ],
        [
         "Topeka",
         127215
        ],
        [
         "Toledo",
         281031
        ],
        [
         "Thousand Oaks",
         129342
        ],
        [
         "Thornton",
         130307
        ],
        [
         "Tempe",
         172816
        ],
        [
         "Temecula",
         109428
        ],
        [
         "Tampa",
         358699
        ],
        [
         "Tallahassee",
         188107
        ],
        [
         "Tacoma",
         205159
        ],
        [
         "Syracuse",
         144263
        ],
        [
         "Surprise",
         126275
        ],
        [
         "Sunnyvale",
         149980
        ],
        [
         "Stockton",
         302389
        ],
        [
         "Sterling Heights",
         131741
        ],
        [
         "Stamford",
         128278
        ],
        [
         "St. Petersburg",
         253693
        ],
        [
         "St. Louis[15]",
         317419
        ],
        [
         "Springfield",
         116809
        ],
        [
         "Springfield",
         153991
        ],
        [
         "Springfield",
         165378
        ],
        [
         "Spokane",
         212052
        ],
        [
         "Sioux Falls",
         168586
        ],
        [
         "Simi Valley",
         126871
        ],
        [
         "Shreveport",
         198242
        ],
        [
         "Seattle",
         668342
        ],
        [
         "Scottsdale",
         230512
        ],
        [
         "Savannah",
         144352
        ],
        [
         "Santa Rosa",
         174170
        ],
        [
         "Santa Maria",
         103410
        ],
        [
         "Santa Clarita",
         181557
        ],
        [
         "Santa Clara",
         122192
        ],
        [
         "Santa Ana",
         334909
        ],
        [
         "Sandy Springs",
         101908
        ],
        [
         "San Mateo",
         102893
        ],
        [
         "San Jose",
         1015785
        ],
        [
         "San Francisco[10]",
         852469
        ],
        [
         "San Diego",
         1381069
        ],
        [
         "San Bernardino",
         215213
        ],
        [
         "San Antonio",
         1436697
        ],
        [
         "Salt Lake City",
         190884
        ],
        [
         "Salinas",
         156677
        ],
        [
         "Salem",
         161637
        ],
        [
         "Saint Paul",
         297640
        ],
        [
         "Sacramento",
         485199
        ],
        [
         "Round Rock",
         112744
        ],
        [
         "Roseville",
         128615
        ],
        [
         "Rockford",
         149123
        ],
        [
         "Rochester",
         111402
        ],
        [
         "Rochester",
         209983
        ],
        [
         "Riverside",
         319504
        ],
        [
         "Richmond[15]",
         217853
        ],
        [
         "Richmond",
         108565
        ],
        [
         "Richardson",
         108617
        ],
        [
         "Rialto",
         102741
        ],
        [
         "Reno",
         236995
        ],
        [
         "Rancho Cucamonga",
         174305
        ],
        [
         "Raleigh",
         439896
        ],
        [
         "Pueblo",
         108423
        ],
        [
         "Provo",
         114801
        ],
        [
         "Providence",
         179154
        ],
        [
         "Portland",
         619360
        ],
        [
         "Port St. Lucie",
         174110
        ],
        [
         "Pompano Beach",
         106105
        ],
        [
         "Pomona",
         153350
        ],
        [
         "Plano",
         278480
        ],
        [
         "Pittsburgh",
         305412
        ],
        [
         "Phoenix",
         1537058
        ],
        [
         "Philadelphia[8]",
         1560297
        ],
        [
         "Peoria",
         166934
        ],
        [
         "Peoria",
         115828
        ],
        [
         "Pembroke Pines",
         164626
        ],
        [
         "Pearland",
         103441
        ],
        [
         "Paterson",
         146753
        ],
        [
         "Pasadena",
         140881
        ],
        [
         "Pasadena",
         153887
        ],
        [
         "Palmdale",
         158279
        ],
        [
         "Palm Bay",
         105838
        ],
        [
         "Oxnard",
         205437
        ],
        [
         "Overland Park",
         184525
        ],
        [
         "Orlando",
         262372
        ],
        [
         "Orange",
         139812
        ],
        [
         "Ontario",
         169089
        ],
        [
         "Omaha",
         446599
        ],
        [
         "Olathe",
         133062
        ],
        [
         "Oklahoma City",
         620602
        ],
        [
         "Odessa",
         114597
        ],
        [
         "Oceanside",
         174558
        ],
        [
         "Oakland",
         413775
        ],
        [
         "Norwalk",
         107096
        ],
        [
         "North Las Vegas",
         230788
        ],
        [
         "North Charleston",
         106749
        ],
        [
         "Norman",
         118040
        ],
        [
         "Norfolk[15]",
         245428
        ],
        [
         "Newport News[15]",
         182965
        ],
        [
         "Newark",
         280579
        ],
        [
         "New York[6]",
         8491079
        ],
        [
         "New Orleans[17]",
         384320
        ],
        [
         "New Haven",
         130282
        ],
        [
         "Nashville[14]",
         644014
        ],
        [
         "Naperville",
         146128
        ],
        [
         "Murrieta",
         108368
        ],
        [
         "Murfreesboro",
         120954
        ],
        [
         "Moreno Valley",
         202976
        ],
        [
         "Montgomery",
         200481
        ],
        [
         "Modesto",
         209286
        ],
        [
         "Mobile",
         194675
        ],
        [
         "Miramar",
         134989
        ],
        [
         "Minneapolis",
         407207
        ],
        [
         "Milwaukee",
         599642
        ],
        [
         "Midland",
         128037
        ],
        [
         "Miami Gardens",
         112265
        ],
        [
         "Miami",
         430332
        ],
        [
         "Mesquite",
         144416
        ],
        [
         "Mesa",
         464704
        ],
        [
         "Memphis",
         656861
        ],
        [
         "McKinney",
         156767
        ],
        [
         "McAllen",
         138596
        ],
        [
         "Manchester",
         110448
        ],
        [
         "Madison",
         245691
        ],
        [
         "Macon",
         null
        ],
        [
         "Lubbock",
         243839
        ],
        [
         "Lowell",
         109945
        ],
        [
         "Louisville[16]",
         612780
        ],
        [
         "Los Angeles",
         3928864
        ],
        [
         "Long Beach",
         473577
        ],
        [
         "Little Rock",
         197706
        ],
        [
         "Lincoln",
         272996
        ],
        [
         "Lexington[18]",
         310797
        ],
        [
         "Lewisville",
         102889
        ],
        [
         "Las Vegas",
         613599
        ],
        [
         "Las Cruces",
         101408
        ],
        [
         "Laredo",
         252309
        ],
        [
         "Lansing",
         114620
        ],
        [
         "Lancaster",
         161043
        ],
        [
         "Lakewood",
         149643
        ],
        [
         "Lakeland",
         102346
        ],
        [
         "Lafayette[27]",
         126066
        ],
        [
         "Knoxville",
         184281
        ],
        [
         "Killeen",
         138154
        ],
        [
         "Kent",
         125560
        ],
        [
         "Kansas City[26]",
         149636
        ],
        [
         "Kansas City",
         470800
        ],
        [
         "Joliet",
         147928
        ],
        [
         "Jersey City",
         262146
        ],
        [
         "Jacksonville[9]",
         853382
        ],
        [
         "Jackson",
         171155
        ],
        [
         "Irving",
         232406
        ],
        [
         "Irvine",
         248531
        ],
        [
         "Inglewood",
         111905
        ],
        [
         "Indianapolis[11]",
         848788
        ],
        [
         "Independence",
         117494
        ],
        [
         "Huntsville",
         188226
        ],
        [
         "Huntington Beach",
         200809
        ],
        [
         "Houston[7]",
         2239558
        ],
        [
         "Honolulu[2]",
         350399
        ],
        [
         "Hollywood",
         148047
        ],
        [
         "High Point",
         108629
        ],
        [
         "Hialeah",
         235563
        ],
        [
         "Henderson",
         277440
        ],
        [
         "Hayward",
         154612
        ],
        [
         "Hartford",
         124705
        ],
        [
         "Hampton[15]",
         136879
        ],
        [
         "Gresham",
         109892
        ],
        [
         "Greensboro",
         282586
        ],
        [
         "Green Bay",
         104891
        ],
        [
         "Grand Rapids",
         193792
        ],
        [
         "Grand Prairie",
         185453
        ],
        [
         "Glendale",
         237517
        ],
        [
         "Glendale",
         200167
        ],
        [
         "Gilbert[20]",
         239277
        ],
        [
         "Garland",
         235501
        ],
        [
         "Garden Grove",
         175078
        ],
        [
         "Gainesville",
         128460
        ],
        [
         "Fullerton",
         139677
        ],
        [
         "Frisco",
         145035
        ],
        [
         "Fresno",
         515986
        ],
        [
         "Fremont",
         228758
        ],
        [
         "Fort Worth",
         812238
        ],
        [
         "Fort Wayne",
         258522
        ],
        [
         "Fort Lauderdale",
         176013
        ],
        [
         "Fort Collins",
         156480
        ],
        [
         "Fontana",
         204950
        ],
        [
         "Fayetteville",
         203948
        ],
        [
         "Fargo",
         115863
        ],
        [
         "Fairfield",
         111125
        ],
        [
         "Everett",
         106736
        ],
        [
         "Evansville",
         120346
        ],
        [
         "Eugene",
         160561
        ],
        [
         "Escondido",
         150243
        ],
        [
         "Elk Grove",
         163553
        ],
        [
         "Elizabeth",
         128705
        ],
        [
         "Elgin",
         111117
        ],
        [
         "El Paso",
         679036
        ],
        [
         "El Monte",
         116631
        ],
        [
         "El Cajon",
         103091
        ],
        [
         "Durham",
         251893
        ],
        [
         "Downey",
         114172
        ],
        [
         "Detroit",
         680250
        ],
        [
         "Des Moines",
         209220
        ],
        [
         "Denver[12]",
         663862
        ],
        [
         "Denton",
         128205
        ],
        [
         "Dayton",
         141003
        ],
        [
         "Davenport",
         102448
        ],
        [
         "Daly City",
         106094
        ],
        [
         "Dallas",
         1281047
        ],
        [
         "Costa Mesa",
         112784
        ],
        [
         "Corpus Christi",
         320434
        ],
        [
         "Corona",
         161486
        ],
        [
         "Coral Springs",
         127952
        ],
        [
         "Concord",
         127522
        ],
        [
         "Columbus[23]",
         200887
        ],
        [
         "Columbus",
         835957
        ],
        [
         "Columbia",
         116906
        ],
        [
         "Columbia",
         132067
        ],
        [
         "Colorado Springs",
         445830
        ],
        [
         "College Station",
         103483
        ],
        [
         "Clovis",
         102189
        ],
        [
         "Cleveland",
         389521
        ],
        [
         "Clearwater",
         110703
        ],
        [
         "Clarksville",
         146806
        ],
        [
         "Cincinnati",
         298165
        ],
        [
         "Chula Vista",
         260988
        ],
        [
         "Chicago",
         2722389
        ],
        [
         "Chesapeake[15]",
         233371
        ],
        [
         "Chattanooga",
         173778
        ],
        [
         "Charlotte",
         809958
        ],
        [
         "Charleston",
         130113
        ],
        [
         "Chandler",
         254276
        ],
        [
         "Centennial",
         107201
        ],
        [
         "Cedar Rapids",
         129195
        ],
        [
         "Cary[25]",
         155227
        ],
        [
         "Carrollton",
         128353
        ],
        [
         "Carlsbad",
         112299
        ],
        [
         "Cape Coral",
         169854
        ],
        [
         "Cambridge",
         109694
        ],
        [
         "Burbank",
         105368
        ],
        [
         "Buffalo",
         258703
        ],
        [
         "Brownsville",
         183046
        ],
        [
         "Broken Arrow",
         104726
        ],
        [
         "Bridgeport",
         147612
        ],
        [
         "Boulder",
         105112
        ],
        [
         "Boston",
         655884
        ],
        [
         "Boise[22]",
         216282
        ],
        [
         "Birmingham",
         212247
        ],
        [
         "Billings",
         108869
        ],
        [
         "Berkeley",
         118853
        ],
        [
         "Bellevue",
         136426
        ],
        [
         "Beaumont",
         117585
        ],
        [
         "Baton Rouge[21]",
         228895
        ],
        [
         "Baltimore[15]",
         622793
        ],
        [
         "Bakersfield",
         368759
        ],
        [
         "Austin",
         912791
        ],
        [
         "Aurora",
         353108
        ],
        [
         "Aurora",
         200456
        ],
        [
         "Augusta[24]",
         196741
        ],
        [
         "Atlanta",
         456002
        ],
        [
         "Athens[28]",
         119648
        ],
        [
         "Arvada",
         113574
        ],
        [
         "Arlington",
         383204
        ],
        [
         "Antioch",
         108930
        ],
        [
         "Ann Arbor",
         117770
        ],
        [
         "Anchorage[19]",
         301010
        ],
        [
         "Anaheim",
         346997
        ],
        [
         "Amarillo",
         197254
        ],
        [
         "Allentown",
         119104
        ],
        [
         "Alexandria[15]",
         150575
        ],
        [
         "Albuquerque",
         557169
        ],
        [
         "Akron",
         197859
        ],
        [
         "Abilene",
         120958
        ]
       ],
       "datasetInfos": [],
       "dbfsResultPath": null,
       "isJsonSchema": true,
       "metadata": {},
       "overflow": false,
       "plotOptions": {
        "customPlotOptions": {},
        "displayType": "table",
        "pivotAggregation": null,
        "pivotColumns": null,
        "xColumns": null,
        "yColumns": null
       },
       "removedWidgets": [],
       "schema": [
        {
         "metadata": "{}",
         "name": "city",
         "type": "\"string\""
        },
        {
         "metadata": "{}",
         "name": "2014 Population estimate",
         "type": "\"integer\""
        }
       ],
       "type": "table"
      }
     },
     "output_type": "display_data"
    },
    {
     "output_type": "display_data",
     "data": {
      "text/plain": [
       "Databricks visualization. Run in Databricks to view."
      ]
     },
     "metadata": {
      "application/vnd.databricks.v1.subcommand+json": {
       "baseErrorDetails": null,
       "bindings": {},
       "collapsed": false,
       "command": "%python\n__backend_agg_display_orig = display\n__backend_agg_dfs = []\ndef __backend_agg_display_new(df):\n    __backend_agg_df_modules = [\"pandas.core.frame\", \"databricks.koalas.frame\", \"pyspark.sql.dataframe\", \"pyspark.pandas.frame\", \"pyspark.sql.connect.dataframe\"]\n    if (type(df).__module__ in __backend_agg_df_modules and type(df).__name__ == 'DataFrame') or isinstance(df, list):\n        __backend_agg_dfs.append(df)\n\ndisplay = __backend_agg_display_new\n\ndef __backend_agg_user_code_fn():\n    import base64\n    exec(base64.standard_b64decode(\"IyBEaXNwbGF5IGNpdHkgbmFtZSBhbmQgcG9wdWxhdGlvbgoKZGlzcGxheShkZl9zZWxlY3RlZC5vcmRlckJ5KGRmX3NlbGVjdGVkWyJjaXR5Il0uZGVzYygpKS5zZWxlY3QoImNpdHkiLCIyMDE0IFBvcHVsYXRpb24gZXN0aW1hdGUiKSk=\").decode())\n\ntry:\n    # run user code\n    __backend_agg_user_code_fn()\n\n    #reset display function\n    display = __backend_agg_display_orig\n\n    if len(__backend_agg_dfs) > 0:\n        # create a temp view\n        if type(__backend_agg_dfs[0]).__module__ == \"databricks.koalas.frame\":\n            # koalas dataframe\n            __backend_agg_dfs[0].to_spark().createOrReplaceTempView(\"DatabricksViewcac20ff\")\n        elif type(__backend_agg_dfs[0]).__module__ == \"pandas.core.frame\" or isinstance(__backend_agg_dfs[0], list):\n            # pandas dataframe\n            spark.createDataFrame(__backend_agg_dfs[0]).createOrReplaceTempView(\"DatabricksViewcac20ff\")\n        else:\n            __backend_agg_dfs[0].createOrReplaceTempView(\"DatabricksViewcac20ff\")\n        #run backend agg\n        display(spark.sql(\"\"\"WITH q AS (select * from DatabricksViewcac20ff) SELECT `city`,SUM(`2014 Population estimate`) `column_ca722dcb49` FROM q GROUP BY `city`\"\"\"))\n    else:\n        displayHTML(\"dataframe no longer exists. If you're using dataframe.display(), use display(dataframe) instead.\")\n\n\nfinally:\n    spark.sql(\"drop view if exists DatabricksViewcac20ff\")\n    display = __backend_agg_display_orig\n    del __backend_agg_display_new\n    del __backend_agg_display_orig\n    del __backend_agg_dfs\n    del __backend_agg_user_code_fn\n\n",
       "commandTitle": "Visualization 1",
       "commandType": "auto",
       "commandVersion": 0,
       "commentThread": [],
       "commentsVisible": false,
       "contentSha256Hex": null,
       "customPlotOptions": {
        "redashChart": [
         {
          "key": "type",
          "value": "CHART"
         },
         {
          "key": "options",
          "value": {
           "alignYAxesAtZero": true,
           "coefficient": 1,
           "columnConfigurationMap": {
            "x": {
             "column": "city",
             "id": "column_ca722dcb47"
            },
            "y": [
             {
              "column": "2014 Population estimate",
              "id": "column_ca722dcb49",
              "transform": "SUM"
             }
            ]
           },
           "dateTimeFormat": "DD/MM/YYYY HH:mm",
           "direction": {
            "type": "counterclockwise"
           },
           "error_y": {
            "type": "data",
            "visible": true
           },
           "globalSeriesType": "pie",
           "isAggregationOn": true,
           "legend": {
            "traceorder": "normal"
           },
           "missingValuesAsZero": true,
           "numberFormat": "0,0.[00000]",
           "percentFormat": "0[.]00%",
           "series": {
            "error_y": {
             "type": "data",
             "visible": true
            },
            "stacking": null
           },
           "seriesOptions": {
            "column_ca722dcb49": {
             "type": "pie",
             "yAxis": 0
            }
           },
           "showDataLabels": true,
           "sizemode": "diameter",
           "sortX": true,
           "sortY": true,
           "swappedAxes": false,
           "textFormat": "",
           "useAggregationsUi": true,
           "valuesOptions": {},
           "version": 2,
           "xAxis": {
            "labels": {
             "enabled": true
            },
            "type": "-"
           },
           "yAxis": [
            {
             "type": "-"
            },
            {
             "opposite": true,
             "type": "-"
            }
           ]
          }
         }
        ]
       },
       "datasetPreviewNameToCmdIdMap": {},
       "diffDeletes": [],
       "diffInserts": [],
       "displayType": "redashChart",
       "error": null,
       "errorDetails": null,
       "errorSummary": null,
       "errorTraceType": null,
       "finishTime": 0,
       "globalVars": {},
       "guid": "",
       "height": "auto",
       "hideCommandCode": false,
       "hideCommandResult": false,
       "iPythonMetadata": null,
       "inputWidgets": {},
       "isLockedInExamMode": false,
       "latestUser": "a user",
       "latestUserId": null,
       "listResultMetadata": null,
       "metadata": {},
       "nuid": "95b4a573-7cf0-4986-88ee-d1bda2457e8e",
       "origId": 0,
       "parentHierarchy": [],
       "pivotAggregation": null,
       "pivotColumns": null,
       "position": 6.0,
       "resultDbfsErrorMessage": null,
       "resultDbfsStatus": "INLINED_IN_TREE",
       "results": null,
       "showCommandTitle": false,
       "startTime": 0,
       "state": "input",
       "streamStates": {},
       "subcommandOptions": {
        "queryPlan": {
         "groups": [
          {
           "column": "city",
           "type": "column"
          }
         ],
         "selects": [
          {
           "column": "city",
           "type": "column"
          },
          {
           "alias": "column_ca722dcb49",
           "args": [
            {
             "column": "2014 Population estimate",
             "type": "column"
            }
           ],
           "function": "SUM",
           "type": "function"
          }
         ]
        }
       },
       "submitTime": 0,
       "subtype": "tableResultSubCmd.visualization",
       "tableResultIndex": 0,
       "tableResultSettingsMap": {},
       "useConsistentColors": false,
       "version": "CommandV1",
       "width": "auto",
       "workflows": [],
       "xColumns": null,
       "yColumns": null
      }
     },
     "output_type": "display_data"
    }
   ],
   "source": [
    "# Display city name and population\n",
    "\n",
    "display(df_selected.orderBy(df_selected[\"city\"].desc()).select(\"city\",\"2014 Population estimate\"))"
   ]
  },
  {
   "cell_type": "code",
   "execution_count": 0,
   "metadata": {
    "application/vnd.databricks.v1+cell": {
     "cellMetadata": {
      "byteLimit": 2048000,
      "rowLimit": 10000
     },
     "inputWidgets": {},
     "nuid": "404fa9aa-87fc-4f34-a85b-af6f82ff12b2",
     "showTitle": false,
     "tableResultSettingsMap": {},
     "title": ""
    }
   },
   "outputs": [
    {
     "output_type": "stream",
     "name": "stdout",
     "output_type": "stream",
     "text": [
      "+-------------+----------+----------+------------------------+-----------------------+\n|         City|     State|State Code|2014 Population estimate|2015 median sales price|\n+-------------+----------+----------+------------------------+-----------------------+\n|Anchorage[19]|    Alaska|        AK|                  301010|                   null|\n|     Chandler|   Arizona|        AZ|                  254276|                   null|\n|  Gilbert[20]|   Arizona|        AZ|                  239277|                   null|\n|     Glendale|   Arizona|        AZ|                  237517|                   null|\n|         Mesa|   Arizona|        AZ|                  464704|                   null|\n|       Peoria|   Arizona|        AZ|                  166934|                   null|\n|   Scottsdale|   Arizona|        AZ|                  230512|                   null|\n|     Surprise|   Arizona|        AZ|                  126275|                   null|\n|        Tempe|   Arizona|        AZ|                  172816|                   null|\n|      Antioch|California|        CA|                  108930|                   null|\n|  Bakersfield|California|        CA|                  368759|                   null|\n|     Berkeley|California|        CA|                  118853|                   null|\n|      Burbank|California|        CA|                  105368|                   null|\n|     Carlsbad|California|        CA|                  112299|                   null|\n|  Chula Vista|California|        CA|                  260988|                   null|\n|       Clovis|California|        CA|                  102189|                   null|\n|      Concord|California|        CA|                  127522|                   null|\n|       Corona|California|        CA|                  161486|                   null|\n|   Costa Mesa|California|        CA|                  112784|                   null|\n|    Daly City|California|        CA|                  106094|                   null|\n+-------------+----------+----------+------------------------+-----------------------+\nonly showing top 20 rows\n\n"
     ]
    }
   ],
   "source": [
    "# Identify cities with missing or zero price values\n",
    "\n",
    "df_selected.filter((df_selected[\"2015 median sales price\"].isNull()) | \n",
    "                   (df_selected[\"2015 median sales price\"] == 0)).show()"
   ]
  },
  {
   "cell_type": "code",
   "execution_count": 0,
   "metadata": {
    "application/vnd.databricks.v1+cell": {
     "cellMetadata": {},
     "inputWidgets": {},
     "nuid": "12efd12a-2781-44f1-8674-5fdecd3a265b",
     "showTitle": false,
     "tableResultSettingsMap": {},
     "title": ""
    }
   },
   "outputs": [],
   "source": []
  }
 ],
 "metadata": {
  "application/vnd.databricks.v1+notebook": {
   "computePreferences": null,
   "dashboards": [],
   "environmentMetadata": {
    "base_environment": "",
    "environment_version": "1"
   },
   "inputWidgetPreferences": null,
   "language": "python",
   "notebookMetadata": {
    "pythonIndentUnit": 4
   },
   "notebookName": "PopulationPriceAnalysis 2025-04-24 10:24:48",
   "widgets": {}
  }
 },
 "nbformat": 4,
 "nbformat_minor": 0
}