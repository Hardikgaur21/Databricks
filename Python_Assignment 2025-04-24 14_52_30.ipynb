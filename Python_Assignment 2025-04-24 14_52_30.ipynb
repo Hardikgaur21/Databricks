{
 "cells": [
  {
   "cell_type": "markdown",
   "metadata": {
    "application/vnd.databricks.v1+cell": {
     "cellMetadata": {},
     "inputWidgets": {},
     "nuid": "ca496053-3c8a-4769-a9f1-bcb12ff6fe59",
     "showTitle": false,
     "tableResultSettingsMap": {},
     "title": ""
    }
   },
   "source": [
    "## # Part 1 : List Operations"
   ]
  },
  {
   "cell_type": "code",
   "execution_count": 0,
   "metadata": {
    "application/vnd.databricks.v1+cell": {
     "cellMetadata": {
      "byteLimit": 2048000,
      "rowLimit": 10000
     },
     "inputWidgets": {},
     "nuid": "975f67bb-8a31-4c8e-90f1-f7bbf43ab1c9",
     "showTitle": false,
     "tableResultSettingsMap": {},
     "title": ""
    }
   },
   "outputs": [
    {
     "output_type": "stream",
     "name": "stdout",
     "output_type": "stream",
     "text": [
      "Total Sales: 1800\n"
     ]
    }
   ],
   "source": [
    "# Given list\n",
    "sales = [250, 300, 400, 150, 500, 200]\n",
    "\n",
    "# Find the total sales\n",
    "total_sales = sum(sales)\n",
    "print(\"Total Sales:\", total_sales)"
   ]
  },
  {
   "cell_type": "code",
   "execution_count": 0,
   "metadata": {
    "application/vnd.databricks.v1+cell": {
     "cellMetadata": {
      "byteLimit": 2048000,
      "rowLimit": 10000
     },
     "inputWidgets": {},
     "nuid": "f5c7fa0a-7e1c-44c6-b9ba-e9c1d64455be",
     "showTitle": false,
     "tableResultSettingsMap": {},
     "title": ""
    }
   },
   "outputs": [
    {
     "output_type": "stream",
     "name": "stdout",
     "output_type": "stream",
     "text": [
      "Average Sale Amount: 300.0\n"
     ]
    }
   ],
   "source": [
    "# Calculate the average sale amount\n",
    "average_sales = total_sales / len(sales)\n",
    "print(\"Average Sale Amount:\", average_sales)\n"
   ]
  },
  {
   "cell_type": "code",
   "execution_count": 0,
   "metadata": {
    "application/vnd.databricks.v1+cell": {
     "cellMetadata": {
      "byteLimit": 2048000,
      "rowLimit": 10000
     },
     "inputWidgets": {},
     "nuid": "9c77fe51-f92a-4c42-9f5e-b231c29d943a",
     "showTitle": false,
     "tableResultSettingsMap": {},
     "title": ""
    }
   },
   "outputs": [
    {
     "output_type": "stream",
     "name": "stdout",
     "output_type": "stream",
     "text": [
      "Sales Above 300: [400, 500]\n"
     ]
    }
   ],
   "source": [
    "# Print sale values above 300\n",
    "sales_above_300 = [s for s in sales if s > 300]\n",
    "print(\"Sales Above 300:\", sales_above_300)"
   ]
  },
  {
   "cell_type": "code",
   "execution_count": 0,
   "metadata": {
    "application/vnd.databricks.v1+cell": {
     "cellMetadata": {
      "byteLimit": 2048000,
      "rowLimit": 10000
     },
     "inputWidgets": {},
     "nuid": "7972a119-ea90-4f17-b3e6-4ca702f39684",
     "showTitle": false,
     "tableResultSettingsMap": {},
     "title": ""
    }
   },
   "outputs": [
    {
     "output_type": "stream",
     "name": "stdout",
     "output_type": "stream",
     "text": [
      "Updated Sales List: [250, 300, 400, 150, 500, 200, 350]\nSales in Descending Order: [500, 400, 350, 300, 250, 200, 150]\n"
     ]
    }
   ],
   "source": [
    "# Add 350 to the list\n",
    "sales.append(350)\n",
    "print(\"Updated Sales List:\", sales)\n",
    "\n",
    "# Sort the list in descending order\n",
    "sales.sort(reverse=True)\n",
    "print(\"Sales in Descending Order:\", sales)"
   ]
  },
  {
   "cell_type": "markdown",
   "metadata": {
    "application/vnd.databricks.v1+cell": {
     "cellMetadata": {},
     "inputWidgets": {},
     "nuid": "facce450-9242-4c13-af70-42f766e3570c",
     "showTitle": false,
     "tableResultSettingsMap": {},
     "title": ""
    }
   },
   "source": [
    "## Part 2: Dictionary Operations"
   ]
  },
  {
   "cell_type": "code",
   "execution_count": 0,
   "metadata": {
    "application/vnd.databricks.v1+cell": {
     "cellMetadata": {
      "byteLimit": 2048000,
      "rowLimit": 10000
     },
     "inputWidgets": {},
     "nuid": "682e5915-6038-469b-bdbd-98ffa067118d",
     "showTitle": false,
     "tableResultSettingsMap": {},
     "title": ""
    }
   },
   "outputs": [
    {
     "output_type": "stream",
     "name": "stdout",
     "output_type": "stream",
     "text": [
      "Price of Monitor: 12000\n"
     ]
    }
   ],
   "source": [
    "# Given dictionary\n",
    "products = {\n",
    "    \"Laptop\": 70000,\n",
    "    \"Mouse\": 500,\n",
    "    \"Keyboard\": 1500,\n",
    "    \"Monitor\": 12000\n",
    "}\n",
    "\n",
    "# Print the price of the \"Monitor\"\n",
    "print(\"Price of Monitor:\", products[\"Monitor\"])"
   ]
  },
  {
   "cell_type": "code",
   "execution_count": 0,
   "metadata": {
    "application/vnd.databricks.v1+cell": {
     "cellMetadata": {
      "byteLimit": 2048000,
      "rowLimit": 10000
     },
     "inputWidgets": {},
     "nuid": "7d5655f3-d2c5-428c-83e8-b4dc4fd765db",
     "showTitle": false,
     "tableResultSettingsMap": {},
     "title": ""
    }
   },
   "outputs": [
    {
     "output_type": "stream",
     "name": "stdout",
     "output_type": "stream",
     "text": [
      "Product List:\nLaptop: ₹70000\nMouse: ₹550\nKeyboard: ₹1500\nMonitor: ₹12000\nWebcam: ₹3000\n"
     ]
    }
   ],
   "source": [
    "# Add a new product \"Webcam\" with price 3000\n",
    "products[\"Webcam\"] = 3000\n",
    "\n",
    "# Update the price of \"Mouse\" to 550\n",
    "products[\"Mouse\"] = 550\n",
    "\n",
    "# Print all product names and prices using a loop\n",
    "print(\"Product List:\")\n",
    "for product, price in products.items():\n",
    "    print(f\"{product}: ₹{price}\")"
   ]
  }
 ],
 "metadata": {
  "application/vnd.databricks.v1+notebook": {
   "computePreferences": null,
   "dashboards": [],
   "environmentMetadata": {
    "base_environment": "",
    "environment_version": "1"
   },
   "inputWidgetPreferences": null,
   "language": "python",
   "notebookMetadata": {
    "pythonIndentUnit": 4
   },
   "notebookName": "Python_Assignment 2025-04-24 14:52:30",
   "widgets": {}
  }
 },
 "nbformat": 4,
 "nbformat_minor": 0
}